{
 "cells": [
  {
   "cell_type": "code",
   "execution_count": 1,
   "metadata": {
    "_cell_guid": "b1076dfc-b9ad-4769-8c92-a6c4dae69d19",
    "_uuid": "8f2839f25d086af736a60e9eeb907d3b93b6e0e5",
    "execution": {
     "iopub.execute_input": "2021-07-18T05:18:48.662245Z",
     "iopub.status.busy": "2021-07-18T05:18:48.661633Z",
     "iopub.status.idle": "2021-07-18T05:18:50.600533Z",
     "shell.execute_reply": "2021-07-18T05:18:50.599377Z",
     "shell.execute_reply.started": "2021-07-18T05:18:48.662152Z"
    }
   },
   "outputs": [
    {
     "ename": "ModuleNotFoundError",
     "evalue": "No module named 'torch'",
     "output_type": "error",
     "traceback": [
      "\u001b[0;31m---------------------------------------------------------------------------\u001b[0m",
      "\u001b[0;31mModuleNotFoundError\u001b[0m                       Traceback (most recent call last)",
      "\u001b[0;32m<ipython-input-1-b49d40c67608>\u001b[0m in \u001b[0;36m<module>\u001b[0;34m\u001b[0m\n\u001b[1;32m      3\u001b[0m \u001b[0;32mimport\u001b[0m \u001b[0mmatplotlib\u001b[0m\u001b[0;34m.\u001b[0m\u001b[0mpyplot\u001b[0m \u001b[0;32mas\u001b[0m \u001b[0mplt\u001b[0m\u001b[0;34m\u001b[0m\u001b[0;34m\u001b[0m\u001b[0m\n\u001b[1;32m      4\u001b[0m \u001b[0;32mimport\u001b[0m \u001b[0mseaborn\u001b[0m \u001b[0;32mas\u001b[0m \u001b[0msns\u001b[0m\u001b[0;34m\u001b[0m\u001b[0;34m\u001b[0m\u001b[0m\n\u001b[0;32m----> 5\u001b[0;31m \u001b[0;32mimport\u001b[0m \u001b[0mtorch\u001b[0m\u001b[0;34m\u001b[0m\u001b[0;34m\u001b[0m\u001b[0m\n\u001b[0m\u001b[1;32m      6\u001b[0m \u001b[0mplt\u001b[0m\u001b[0;34m.\u001b[0m\u001b[0mstyle\u001b[0m\u001b[0;34m.\u001b[0m\u001b[0muse\u001b[0m\u001b[0;34m(\u001b[0m\u001b[0;34m'ggplot'\u001b[0m\u001b[0;34m)\u001b[0m\u001b[0;34m\u001b[0m\u001b[0;34m\u001b[0m\u001b[0m\n",
      "\u001b[0;31mModuleNotFoundError\u001b[0m: No module named 'torch'"
     ]
    }
   ],
   "source": [
    "import numpy as np\n",
    "import pandas as pd\n",
    "import matplotlib.pyplot as plt\n",
    "import seaborn as sns\n",
    "import torch\n",
    "plt.style.use('ggplot')"
   ]
  },
  {
   "cell_type": "code",
   "execution_count": null,
   "metadata": {
    "execution": {
     "iopub.execute_input": "2021-07-18T05:18:54.299300Z",
     "iopub.status.busy": "2021-07-18T05:18:54.298938Z",
     "iopub.status.idle": "2021-07-18T05:18:54.428909Z",
     "shell.execute_reply": "2021-07-18T05:18:54.427962Z",
     "shell.execute_reply.started": "2021-07-18T05:18:54.299270Z"
    }
   },
   "outputs": [],
   "source": [
    "X_train=pd.read_csv('../input/dataforme/X_train.csv')\n",
    "X_test=pd.read_csv('../input/dataforme/X_test.csv')\n",
    "y_train=pd.read_csv('../input/dataforme/y_train.csv')\n",
    "y_test=pd.read_csv('../input/dataforme/y_test.csv')"
   ]
  },
  {
   "cell_type": "code",
   "execution_count": null,
   "metadata": {
    "execution": {
     "iopub.execute_input": "2021-07-18T05:19:14.051823Z",
     "iopub.status.busy": "2021-07-18T05:19:14.051326Z",
     "iopub.status.idle": "2021-07-18T05:19:14.218553Z",
     "shell.execute_reply": "2021-07-18T05:19:14.217787Z",
     "shell.execute_reply.started": "2021-07-18T05:19:14.051792Z"
    }
   },
   "outputs": [],
   "source": [
    "sns.countplot(x='level',data=y_train);"
   ]
  },
  {
   "cell_type": "code",
   "execution_count": 5,
   "metadata": {
    "execution": {
     "iopub.execute_input": "2021-07-18T05:19:24.736488Z",
     "iopub.status.busy": "2021-07-18T05:19:24.736140Z",
     "iopub.status.idle": "2021-07-18T05:19:24.740072Z",
     "shell.execute_reply": "2021-07-18T05:19:24.739322Z",
     "shell.execute_reply.started": "2021-07-18T05:19:24.736459Z"
    }
   },
   "outputs": [],
   "source": [
    "from sklearn.metrics import balanced_accuracy_score,f1_score,roc_auc_score,log_loss"
   ]
  },
  {
   "cell_type": "code",
   "execution_count": 6,
   "metadata": {
    "execution": {
     "iopub.execute_input": "2021-07-18T05:19:26.967354Z",
     "iopub.status.busy": "2021-07-18T05:19:26.966794Z",
     "iopub.status.idle": "2021-07-18T05:19:27.082061Z",
     "shell.execute_reply": "2021-07-18T05:19:27.080963Z",
     "shell.execute_reply.started": "2021-07-18T05:19:26.967321Z"
    }
   },
   "outputs": [
    {
     "name": "stderr",
     "output_type": "stream",
     "text": [
      "/opt/conda/lib/python3.7/site-packages/sklearn/utils/validation.py:72: DataConversionWarning: A column-vector y was passed when a 1d array was expected. Please change the shape of y to (n_samples, ), for example using ravel().\n",
      "  return f(**kwargs)\n"
     ]
    }
   ],
   "source": [
    "lr_clf=LogisticRegression(solver='liblinear')\n",
    "lr_clf.fit(X_train,y_train)\n",
    "y_test_pred_lr=lr_clf.predict(X_test)\n",
    "y_test_proba_lr=lr_clf.predict_proba(X_test)\n",
    "lr_clf_accuracy=balanced_accuracy_score(y_test,y_test_pred_lr)\n",
    "lr_clf_f1=f1_score(y_test,y_test_pred_lr,average='weighted')\n",
    "lr_clf_auc=roc_auc_score(y_test,y_test_proba_lr,average='weighted',multi_class='ovr')\n",
    "lr_clf_logloss=log_loss(y_test,y_test_proba_lr)"
   ]
  },
  {
   "cell_type": "code",
   "execution_count": 7,
   "metadata": {
    "execution": {
     "iopub.execute_input": "2021-07-18T05:19:29.605950Z",
     "iopub.status.busy": "2021-07-18T05:19:29.605601Z",
     "iopub.status.idle": "2021-07-18T05:19:29.611362Z",
     "shell.execute_reply": "2021-07-18T05:19:29.610413Z",
     "shell.execute_reply.started": "2021-07-18T05:19:29.605917Z"
    }
   },
   "outputs": [
    {
     "data": {
      "text/plain": [
       "(0.7452694871051868,\n",
       " 0.8171114165386331,\n",
       " 0.9188624563725688,\n",
       " 0.43503289822737795)"
      ]
     },
     "execution_count": 7,
     "metadata": {},
     "output_type": "execute_result"
    }
   ],
   "source": [
    "lr_clf_accuracy,lr_clf_f1,lr_clf_auc,lr_clf_logloss"
   ]
  },
  {
   "cell_type": "code",
   "execution_count": 109,
   "metadata": {
    "execution": {
     "iopub.execute_input": "2021-07-18T06:29:06.423072Z",
     "iopub.status.busy": "2021-07-18T06:29:06.422653Z",
     "iopub.status.idle": "2021-07-18T06:29:07.230116Z",
     "shell.execute_reply": "2021-07-18T06:29:07.229176Z",
     "shell.execute_reply.started": "2021-07-18T06:29:06.423035Z"
    }
   },
   "outputs": [
    {
     "name": "stderr",
     "output_type": "stream",
     "text": [
      "/opt/conda/lib/python3.7/site-packages/ipykernel_launcher.py:3: DataConversionWarning: A column-vector y was passed when a 1d array was expected. Please change the shape of y to (n_samples,), for example using ravel().\n",
      "  This is separate from the ipykernel package so we can avoid doing imports until\n"
     ]
    }
   ],
   "source": [
    "from sklearn.ensemble import RandomForestClassifier\n",
    "rf_clf=RandomForestClassifier()\n",
    "rf_clf.fit(X_train,y_train)\n",
    "y_test_pred_rf=rf_clf.predict(X_test)\n",
    "y_test_proba_rf=rf_clf.predict_proba(X_test)\n",
    "rf_clf_accuracy=balanced_accuracy_score(y_test,y_test_pred_rf)\n",
    "rf_clf_f1=f1_score(y_test,y_test_pred_rf,average='weighted')\n",
    "rf_clf_auc=roc_auc_score(y_test,y_test_proba_rf,average='weighted',multi_class='ovr')\n",
    "rf_clf_logloss=log_loss(y_test,y_test_proba_rf)"
   ]
  },
  {
   "cell_type": "code",
   "execution_count": 110,
   "metadata": {
    "execution": {
     "iopub.execute_input": "2021-07-18T06:29:07.370922Z",
     "iopub.status.busy": "2021-07-18T06:29:07.370506Z",
     "iopub.status.idle": "2021-07-18T06:29:07.378350Z",
     "shell.execute_reply": "2021-07-18T06:29:07.377198Z",
     "shell.execute_reply.started": "2021-07-18T06:29:07.370877Z"
    }
   },
   "outputs": [
    {
     "data": {
      "text/plain": [
       "(0.8778651115618662,\n",
       " 0.9112233838412769,\n",
       " 0.9815774384614413,\n",
       " 0.24257540436640085)"
      ]
     },
     "execution_count": 110,
     "metadata": {},
     "output_type": "execute_result"
    }
   ],
   "source": [
    "rf_clf_accuracy,rf_clf_f1,rf_clf_auc,rf_clf_logloss"
   ]
  },
  {
   "cell_type": "code",
   "execution_count": 92,
   "metadata": {
    "execution": {
     "iopub.execute_input": "2021-07-18T06:26:08.225906Z",
     "iopub.status.busy": "2021-07-18T06:26:08.225497Z",
     "iopub.status.idle": "2021-07-18T06:26:11.227597Z",
     "shell.execute_reply": "2021-07-18T06:26:11.226655Z",
     "shell.execute_reply.started": "2021-07-18T06:26:08.225868Z"
    }
   },
   "outputs": [
    {
     "name": "stderr",
     "output_type": "stream",
     "text": [
      "/opt/conda/lib/python3.7/site-packages/xgboost/sklearn.py:1146: UserWarning: The use of label encoder in XGBClassifier is deprecated and will be removed in a future release. To remove this warning, do the following: 1) Pass option use_label_encoder=False when constructing XGBClassifier object; and 2) Encode your labels (y) as integers starting with 0, i.e. 0, 1, 2, ..., [num_class - 1].\n",
      "  warnings.warn(label_encoder_deprecation_msg, UserWarning)\n",
      "/opt/conda/lib/python3.7/site-packages/sklearn/utils/validation.py:72: DataConversionWarning: A column-vector y was passed when a 1d array was expected. Please change the shape of y to (n_samples, ), for example using ravel().\n",
      "  return f(**kwargs)\n"
     ]
    },
    {
     "name": "stdout",
     "output_type": "stream",
     "text": [
      "[06:26:08] WARNING: ../src/learner.cc:1095: Starting in XGBoost 1.3.0, the default evaluation metric used with the objective 'multi:softprob' was changed from 'merror' to 'mlogloss'. Explicitly set eval_metric if you'd like to restore the old behavior.\n"
     ]
    }
   ],
   "source": [
    "from xgboost import XGBClassifier\n",
    "xgb_clf=XGBClassifier()\n",
    "xgb_clf.fit(X_train,y_train,)\n",
    "y_test_pred_xgb=xgb_clf.predict(X_test)\n",
    "y_test_proba_xgb=xgb_clf.predict_proba(X_test)\n",
    "xgb_clf_accuracy=balanced_accuracy_score(y_test,y_test_pred_xgb)\n",
    "xgb_clf_f1=f1_score(y_test,y_test_pred_xgb,average='weighted')\n",
    "xgb_clf_auc=roc_auc_score(y_test,y_test_proba_xgb,average='weighted',multi_class='ovr')\n",
    "xgb_clf_logloss=log_loss(y_test,y_test_proba_xgb)"
   ]
  },
  {
   "cell_type": "code",
   "execution_count": 93,
   "metadata": {
    "execution": {
     "iopub.execute_input": "2021-07-18T06:26:11.229391Z",
     "iopub.status.busy": "2021-07-18T06:26:11.228962Z",
     "iopub.status.idle": "2021-07-18T06:26:11.234654Z",
     "shell.execute_reply": "2021-07-18T06:26:11.234002Z",
     "shell.execute_reply.started": "2021-07-18T06:26:11.229358Z"
    }
   },
   "outputs": [
    {
     "data": {
      "text/plain": [
       "(0.8885902636916835,\n",
       " 0.9265890012179295,\n",
       " 0.9843541283545185,\n",
       " 0.19662313272999352)"
      ]
     },
     "execution_count": 93,
     "metadata": {},
     "output_type": "execute_result"
    }
   ],
   "source": [
    "xgb_clf_accuracy,xgb_clf_f1,xgb_clf_auc,xgb_clf_logloss"
   ]
  },
  {
   "cell_type": "code",
   "execution_count": 12,
   "metadata": {
    "execution": {
     "iopub.execute_input": "2021-07-18T05:19:43.691254Z",
     "iopub.status.busy": "2021-07-18T05:19:43.690918Z",
     "iopub.status.idle": "2021-07-18T05:19:44.419764Z",
     "shell.execute_reply": "2021-07-18T05:19:44.418836Z",
     "shell.execute_reply.started": "2021-07-18T05:19:43.691225Z"
    }
   },
   "outputs": [
    {
     "name": "stderr",
     "output_type": "stream",
     "text": [
      "/opt/conda/lib/python3.7/site-packages/sklearn/utils/validation.py:72: DataConversionWarning: A column-vector y was passed when a 1d array was expected. Please change the shape of y to (n_samples, ), for example using ravel().\n",
      "  return f(**kwargs)\n"
     ]
    }
   ],
   "source": [
    "from sklearn.ensemble import AdaBoostClassifier\n",
    "ada_clf=AdaBoostClassifier()\n",
    "ada_clf.fit(X_train,y_train)\n",
    "y_test_pred_ada=ada_clf.predict(X_test)\n",
    "y_test_proba_ada=ada_clf.predict_proba(X_test)\n",
    "ada_clf_accuracy=balanced_accuracy_score(y_test,y_test_pred_ada)\n",
    "ada_clf_f1=f1_score(y_test,y_test_pred_ada,average='weighted')\n",
    "ada_clf_auc=roc_auc_score(y_test,y_test_proba_ada,average='weighted',multi_class='ovr')\n",
    "ada_clf_logloss=log_loss(y_test,y_test_proba_ada)"
   ]
  },
  {
   "cell_type": "code",
   "execution_count": 13,
   "metadata": {
    "execution": {
     "iopub.execute_input": "2021-07-18T05:19:44.831665Z",
     "iopub.status.busy": "2021-07-18T05:19:44.831341Z",
     "iopub.status.idle": "2021-07-18T05:19:44.838156Z",
     "shell.execute_reply": "2021-07-18T05:19:44.837190Z",
     "shell.execute_reply.started": "2021-07-18T05:19:44.831639Z"
    }
   },
   "outputs": [
    {
     "data": {
      "text/plain": [
       "(0.7291388969380855,\n",
       " 0.7273249495419966,\n",
       " 0.8203792768442996,\n",
       " 0.9073410308528792)"
      ]
     },
     "execution_count": 13,
     "metadata": {},
     "output_type": "execute_result"
    }
   ],
   "source": [
    "ada_clf_accuracy,ada_clf_f1,ada_clf_auc,ada_clf_logloss"
   ]
  },
  {
   "cell_type": "code",
   "execution_count": 14,
   "metadata": {
    "execution": {
     "iopub.execute_input": "2021-07-18T05:19:47.016869Z",
     "iopub.status.busy": "2021-07-18T05:19:47.016369Z",
     "iopub.status.idle": "2021-07-18T05:19:55.877000Z",
     "shell.execute_reply": "2021-07-18T05:19:55.875985Z",
     "shell.execute_reply.started": "2021-07-18T05:19:47.016826Z"
    }
   },
   "outputs": [
    {
     "name": "stdout",
     "output_type": "stream",
     "text": [
      "Collecting pytorch-tabnet\n",
      "  Downloading pytorch_tabnet-3.1.1-py3-none-any.whl (39 kB)\n",
      "Requirement already satisfied: scipy>1.4 in /opt/conda/lib/python3.7/site-packages (from pytorch-tabnet) (1.6.3)\n",
      "Requirement already satisfied: scikit_learn>0.21 in /opt/conda/lib/python3.7/site-packages (from pytorch-tabnet) (0.23.2)\n",
      "Requirement already satisfied: numpy<2.0,>=1.17 in /opt/conda/lib/python3.7/site-packages (from pytorch-tabnet) (1.19.5)\n",
      "Requirement already satisfied: torch<2.0,>=1.2 in /opt/conda/lib/python3.7/site-packages (from pytorch-tabnet) (1.7.0)\n",
      "Requirement already satisfied: tqdm<5.0,>=4.36 in /opt/conda/lib/python3.7/site-packages (from pytorch-tabnet) (4.61.1)\n",
      "Requirement already satisfied: threadpoolctl>=2.0.0 in /opt/conda/lib/python3.7/site-packages (from scikit_learn>0.21->pytorch-tabnet) (2.1.0)\n",
      "Requirement already satisfied: joblib>=0.11 in /opt/conda/lib/python3.7/site-packages (from scikit_learn>0.21->pytorch-tabnet) (1.0.1)\n",
      "Requirement already satisfied: future in /opt/conda/lib/python3.7/site-packages (from torch<2.0,>=1.2->pytorch-tabnet) (0.18.2)\n",
      "Requirement already satisfied: typing_extensions in /opt/conda/lib/python3.7/site-packages (from torch<2.0,>=1.2->pytorch-tabnet) (3.7.4.3)\n",
      "Requirement already satisfied: dataclasses in /opt/conda/lib/python3.7/site-packages (from torch<2.0,>=1.2->pytorch-tabnet) (0.6)\n",
      "Installing collected packages: pytorch-tabnet\n",
      "Successfully installed pytorch-tabnet-3.1.1\n",
      "\u001b[33mWARNING: Running pip as root will break packages and permissions. You should install packages reliably by using venv: https://pip.pypa.io/warnings/venv\u001b[0m\n",
      "Note: you may need to restart the kernel to use updated packages.\n"
     ]
    }
   ],
   "source": [
    "pip install pytorch-tabnet"
   ]
  },
  {
   "cell_type": "code",
   "execution_count": 15,
   "metadata": {
    "execution": {
     "iopub.execute_input": "2021-07-18T05:19:55.878922Z",
     "iopub.status.busy": "2021-07-18T05:19:55.878619Z",
     "iopub.status.idle": "2021-07-18T05:19:55.897649Z",
     "shell.execute_reply": "2021-07-18T05:19:55.896608Z",
     "shell.execute_reply.started": "2021-07-18T05:19:55.878877Z"
    }
   },
   "outputs": [],
   "source": [
    "from pytorch_tabnet.multitask import TabNetMultiTaskClassifier\n",
    "from pytorch_tabnet.tab_model import TabNetClassifier, TabNetRegressor\n"
   ]
  },
  {
   "cell_type": "code",
   "execution_count": 17,
   "metadata": {
    "execution": {
     "iopub.execute_input": "2021-07-18T05:20:01.023259Z",
     "iopub.status.busy": "2021-07-18T05:20:01.022902Z",
     "iopub.status.idle": "2021-07-18T05:20:01.028238Z",
     "shell.execute_reply": "2021-07-18T05:20:01.027075Z",
     "shell.execute_reply.started": "2021-07-18T05:20:01.023231Z"
    }
   },
   "outputs": [],
   "source": [
    "y_test=y_test.astype('int')\n",
    "y_train=y_train.astype('int')"
   ]
  },
  {
   "cell_type": "code",
   "execution_count": 124,
   "metadata": {
    "execution": {
     "iopub.execute_input": "2021-07-18T06:42:48.522828Z",
     "iopub.status.busy": "2021-07-18T06:42:48.522452Z",
     "iopub.status.idle": "2021-07-18T06:42:48.529651Z",
     "shell.execute_reply": "2021-07-18T06:42:48.528645Z",
     "shell.execute_reply.started": "2021-07-18T06:42:48.522798Z"
    }
   },
   "outputs": [
    {
     "name": "stdout",
     "output_type": "stream",
     "text": [
      "Device used : cpu\n"
     ]
    }
   ],
   "source": [
    "tab0_clf=TabNetClassifier(optimizer_fn=torch.optim.Adam, n_d=32, n_a=32, n_steps=2,)"
   ]
  },
  {
   "cell_type": "code",
   "execution_count": 125,
   "metadata": {
    "execution": {
     "iopub.execute_input": "2021-07-18T06:42:49.457043Z",
     "iopub.status.busy": "2021-07-18T06:42:49.456633Z",
     "iopub.status.idle": "2021-07-18T06:47:25.765033Z",
     "shell.execute_reply": "2021-07-18T06:47:25.764064Z",
     "shell.execute_reply.started": "2021-07-18T06:42:49.457010Z"
    }
   },
   "outputs": [
    {
     "name": "stdout",
     "output_type": "stream",
     "text": [
      "epoch 0  | loss: 0.97393 | train_balanced_accuracy: 0.46466 | train_logloss: 0.85218 |  0:00:02s\n",
      "epoch 1  | loss: 0.59008 | train_balanced_accuracy: 0.4919  | train_logloss: 0.75939 |  0:00:05s\n",
      "epoch 2  | loss: 0.57382 | train_balanced_accuracy: 0.53332 | train_logloss: 0.75113 |  0:00:08s\n",
      "epoch 3  | loss: 0.50381 | train_balanced_accuracy: 0.56511 | train_logloss: 0.63576 |  0:00:12s\n",
      "epoch 4  | loss: 0.48383 | train_balanced_accuracy: 0.67315 | train_logloss: 0.58474 |  0:00:14s\n",
      "epoch 5  | loss: 0.46515 | train_balanced_accuracy: 0.57972 | train_logloss: 0.56673 |  0:00:17s\n",
      "epoch 6  | loss: 0.45331 | train_balanced_accuracy: 0.71062 | train_logloss: 0.5412  |  0:00:20s\n",
      "epoch 7  | loss: 0.43956 | train_balanced_accuracy: 0.71753 | train_logloss: 0.52501 |  0:00:22s\n",
      "epoch 8  | loss: 0.38953 | train_balanced_accuracy: 0.77335 | train_logloss: 0.47316 |  0:00:25s\n",
      "epoch 9  | loss: 0.3999  | train_balanced_accuracy: 0.77584 | train_logloss: 0.45179 |  0:00:28s\n",
      "epoch 10 | loss: 0.37301 | train_balanced_accuracy: 0.80028 | train_logloss: 0.34064 |  0:00:30s\n",
      "epoch 11 | loss: 0.36585 | train_balanced_accuracy: 0.76033 | train_logloss: 0.36331 |  0:00:33s\n",
      "epoch 12 | loss: 0.40504 | train_balanced_accuracy: 0.79648 | train_logloss: 0.35346 |  0:00:36s\n",
      "epoch 13 | loss: 0.35688 | train_balanced_accuracy: 0.82615 | train_logloss: 0.3337  |  0:00:38s\n",
      "epoch 14 | loss: 0.38015 | train_balanced_accuracy: 0.82302 | train_logloss: 0.32369 |  0:00:42s\n",
      "epoch 15 | loss: 0.36896 | train_balanced_accuracy: 0.84008 | train_logloss: 0.28996 |  0:00:45s\n",
      "epoch 16 | loss: 0.35676 | train_balanced_accuracy: 0.8358  | train_logloss: 0.2778  |  0:00:47s\n",
      "epoch 17 | loss: 0.31741 | train_balanced_accuracy: 0.85835 | train_logloss: 0.2895  |  0:00:50s\n",
      "epoch 18 | loss: 0.36134 | train_balanced_accuracy: 0.85544 | train_logloss: 0.26561 |  0:00:53s\n",
      "epoch 19 | loss: 0.30754 | train_balanced_accuracy: 0.87656 | train_logloss: 0.23153 |  0:00:55s\n",
      "epoch 20 | loss: 0.30458 | train_balanced_accuracy: 0.88702 | train_logloss: 0.23775 |  0:00:58s\n",
      "epoch 21 | loss: 0.27982 | train_balanced_accuracy: 0.90574 | train_logloss: 0.19959 |  0:01:01s\n",
      "epoch 22 | loss: 0.30768 | train_balanced_accuracy: 0.83906 | train_logloss: 0.24506 |  0:01:03s\n",
      "epoch 23 | loss: 0.30045 | train_balanced_accuracy: 0.87015 | train_logloss: 0.22314 |  0:01:06s\n",
      "epoch 24 | loss: 0.27231 | train_balanced_accuracy: 0.85392 | train_logloss: 0.20336 |  0:01:09s\n",
      "epoch 25 | loss: 0.28553 | train_balanced_accuracy: 0.87857 | train_logloss: 0.2041  |  0:01:11s\n",
      "epoch 26 | loss: 0.28398 | train_balanced_accuracy: 0.87942 | train_logloss: 0.21805 |  0:01:15s\n",
      "epoch 27 | loss: 0.26026 | train_balanced_accuracy: 0.8857  | train_logloss: 0.21455 |  0:01:18s\n",
      "epoch 28 | loss: 0.26543 | train_balanced_accuracy: 0.91005 | train_logloss: 0.19999 |  0:01:20s\n",
      "epoch 29 | loss: 0.29865 | train_balanced_accuracy: 0.90412 | train_logloss: 0.21677 |  0:01:23s\n",
      "epoch 30 | loss: 0.306   | train_balanced_accuracy: 0.87574 | train_logloss: 0.24379 |  0:01:26s\n",
      "epoch 31 | loss: 0.3137  | train_balanced_accuracy: 0.85845 | train_logloss: 0.20872 |  0:01:28s\n",
      "epoch 32 | loss: 0.27859 | train_balanced_accuracy: 0.88378 | train_logloss: 0.19293 |  0:01:31s\n",
      "epoch 33 | loss: 0.26007 | train_balanced_accuracy: 0.89334 | train_logloss: 0.19737 |  0:01:34s\n",
      "epoch 34 | loss: 0.27076 | train_balanced_accuracy: 0.91322 | train_logloss: 0.20566 |  0:01:36s\n",
      "epoch 35 | loss: 0.28428 | train_balanced_accuracy: 0.85915 | train_logloss: 0.20151 |  0:01:39s\n",
      "epoch 36 | loss: 0.26299 | train_balanced_accuracy: 0.90294 | train_logloss: 0.17957 |  0:01:42s\n",
      "epoch 37 | loss: 0.2518  | train_balanced_accuracy: 0.88532 | train_logloss: 0.19266 |  0:01:44s\n",
      "epoch 38 | loss: 0.26589 | train_balanced_accuracy: 0.8726  | train_logloss: 0.19171 |  0:01:48s\n",
      "epoch 39 | loss: 0.25124 | train_balanced_accuracy: 0.903   | train_logloss: 0.19044 |  0:01:51s\n",
      "epoch 40 | loss: 0.27223 | train_balanced_accuracy: 0.89006 | train_logloss: 0.19305 |  0:01:53s\n",
      "epoch 41 | loss: 0.24941 | train_balanced_accuracy: 0.9079  | train_logloss: 0.17402 |  0:01:56s\n",
      "epoch 42 | loss: 0.23948 | train_balanced_accuracy: 0.90699 | train_logloss: 0.19051 |  0:01:59s\n",
      "epoch 43 | loss: 0.2491  | train_balanced_accuracy: 0.92898 | train_logloss: 0.19556 |  0:02:01s\n",
      "epoch 44 | loss: 0.24527 | train_balanced_accuracy: 0.9219  | train_logloss: 0.17573 |  0:02:04s\n",
      "epoch 45 | loss: 0.25811 | train_balanced_accuracy: 0.91789 | train_logloss: 0.18452 |  0:02:07s\n",
      "epoch 46 | loss: 0.24264 | train_balanced_accuracy: 0.89814 | train_logloss: 0.20429 |  0:02:09s\n",
      "epoch 47 | loss: 0.22362 | train_balanced_accuracy: 0.92274 | train_logloss: 0.16289 |  0:02:12s\n",
      "epoch 48 | loss: 0.24453 | train_balanced_accuracy: 0.90527 | train_logloss: 0.16802 |  0:02:15s\n",
      "epoch 49 | loss: 0.21048 | train_balanced_accuracy: 0.91861 | train_logloss: 0.16444 |  0:02:18s\n",
      "epoch 50 | loss: 0.22058 | train_balanced_accuracy: 0.91614 | train_logloss: 0.17005 |  0:02:21s\n",
      "epoch 51 | loss: 0.22713 | train_balanced_accuracy: 0.91353 | train_logloss: 0.15937 |  0:02:23s\n",
      "epoch 52 | loss: 0.24646 | train_balanced_accuracy: 0.92858 | train_logloss: 0.17738 |  0:02:26s\n",
      "epoch 53 | loss: 0.24146 | train_balanced_accuracy: 0.93878 | train_logloss: 0.15355 |  0:02:29s\n",
      "epoch 54 | loss: 0.24533 | train_balanced_accuracy: 0.89352 | train_logloss: 0.20685 |  0:02:31s\n",
      "epoch 55 | loss: 0.21955 | train_balanced_accuracy: 0.91907 | train_logloss: 0.15292 |  0:02:34s\n",
      "epoch 56 | loss: 0.19431 | train_balanced_accuracy: 0.93539 | train_logloss: 0.1596  |  0:02:37s\n",
      "epoch 57 | loss: 0.22296 | train_balanced_accuracy: 0.93644 | train_logloss: 0.17587 |  0:02:39s\n",
      "epoch 58 | loss: 0.26678 | train_balanced_accuracy: 0.93169 | train_logloss: 0.17831 |  0:02:42s\n",
      "epoch 59 | loss: 0.22637 | train_balanced_accuracy: 0.94575 | train_logloss: 0.13852 |  0:02:45s\n",
      "epoch 60 | loss: 0.20679 | train_balanced_accuracy: 0.94239 | train_logloss: 0.1338  |  0:02:47s\n",
      "epoch 61 | loss: 0.19706 | train_balanced_accuracy: 0.94141 | train_logloss: 0.16622 |  0:02:51s\n",
      "epoch 62 | loss: 0.24244 | train_balanced_accuracy: 0.93211 | train_logloss: 0.15431 |  0:02:54s\n",
      "epoch 63 | loss: 0.21876 | train_balanced_accuracy: 0.94305 | train_logloss: 0.15521 |  0:02:56s\n",
      "epoch 64 | loss: 0.19588 | train_balanced_accuracy: 0.93373 | train_logloss: 0.14262 |  0:02:59s\n",
      "epoch 65 | loss: 0.22769 | train_balanced_accuracy: 0.9204  | train_logloss: 0.15278 |  0:03:02s\n",
      "epoch 66 | loss: 0.21812 | train_balanced_accuracy: 0.94547 | train_logloss: 0.13711 |  0:03:04s\n",
      "epoch 67 | loss: 0.19018 | train_balanced_accuracy: 0.92942 | train_logloss: 0.13894 |  0:03:07s\n",
      "epoch 68 | loss: 0.19843 | train_balanced_accuracy: 0.93279 | train_logloss: 0.13598 |  0:03:10s\n",
      "epoch 69 | loss: 0.248   | train_balanced_accuracy: 0.91041 | train_logloss: 0.18028 |  0:03:12s\n",
      "epoch 70 | loss: 0.23388 | train_balanced_accuracy: 0.90051 | train_logloss: 0.17924 |  0:03:15s\n",
      "epoch 71 | loss: 0.21579 | train_balanced_accuracy: 0.90375 | train_logloss: 0.15735 |  0:03:18s\n",
      "epoch 72 | loss: 0.23064 | train_balanced_accuracy: 0.89187 | train_logloss: 0.16554 |  0:03:20s\n",
      "epoch 73 | loss: 0.20372 | train_balanced_accuracy: 0.91126 | train_logloss: 0.15022 |  0:03:24s\n",
      "epoch 74 | loss: 0.25157 | train_balanced_accuracy: 0.92486 | train_logloss: 0.13965 |  0:03:27s\n",
      "epoch 75 | loss: 0.21272 | train_balanced_accuracy: 0.92473 | train_logloss: 0.15382 |  0:03:29s\n",
      "epoch 76 | loss: 0.18047 | train_balanced_accuracy: 0.92998 | train_logloss: 0.13083 |  0:03:32s\n",
      "epoch 77 | loss: 0.19841 | train_balanced_accuracy: 0.93221 | train_logloss: 0.13953 |  0:03:35s\n",
      "epoch 78 | loss: 0.19326 | train_balanced_accuracy: 0.93807 | train_logloss: 0.16171 |  0:03:37s\n",
      "epoch 79 | loss: 0.18863 | train_balanced_accuracy: 0.93115 | train_logloss: 0.13103 |  0:03:40s\n",
      "epoch 80 | loss: 0.1663  | train_balanced_accuracy: 0.91458 | train_logloss: 0.11857 |  0:03:43s\n",
      "epoch 81 | loss: 0.21249 | train_balanced_accuracy: 0.90757 | train_logloss: 0.16299 |  0:03:46s\n",
      "epoch 82 | loss: 0.19602 | train_balanced_accuracy: 0.94499 | train_logloss: 0.13445 |  0:03:49s\n",
      "epoch 83 | loss: 0.19787 | train_balanced_accuracy: 0.93389 | train_logloss: 0.13451 |  0:03:51s\n",
      "epoch 84 | loss: 0.21646 | train_balanced_accuracy: 0.93092 | train_logloss: 0.15429 |  0:03:55s\n",
      "epoch 85 | loss: 0.2135  | train_balanced_accuracy: 0.94719 | train_logloss: 0.14418 |  0:03:57s\n",
      "epoch 86 | loss: 0.18633 | train_balanced_accuracy: 0.93597 | train_logloss: 0.12467 |  0:04:00s\n",
      "epoch 87 | loss: 0.19041 | train_balanced_accuracy: 0.93541 | train_logloss: 0.12287 |  0:04:03s\n",
      "epoch 88 | loss: 0.16442 | train_balanced_accuracy: 0.94133 | train_logloss: 0.12615 |  0:04:05s\n",
      "epoch 89 | loss: 0.18534 | train_balanced_accuracy: 0.94674 | train_logloss: 0.12238 |  0:04:08s\n",
      "epoch 90 | loss: 0.18982 | train_balanced_accuracy: 0.9419  | train_logloss: 0.123   |  0:04:11s\n",
      "epoch 91 | loss: 0.18115 | train_balanced_accuracy: 0.92862 | train_logloss: 0.11613 |  0:04:13s\n",
      "epoch 92 | loss: 0.18105 | train_balanced_accuracy: 0.93596 | train_logloss: 0.11949 |  0:04:16s\n",
      "epoch 93 | loss: 0.19467 | train_balanced_accuracy: 0.94214 | train_logloss: 0.13307 |  0:04:19s\n",
      "epoch 94 | loss: 0.1824  | train_balanced_accuracy: 0.9377  | train_logloss: 0.12657 |  0:04:21s\n",
      "epoch 95 | loss: 0.16015 | train_balanced_accuracy: 0.94957 | train_logloss: 0.12263 |  0:04:24s\n",
      "epoch 96 | loss: 0.18733 | train_balanced_accuracy: 0.95099 | train_logloss: 0.11025 |  0:04:27s\n",
      "epoch 97 | loss: 0.17171 | train_balanced_accuracy: 0.94614 | train_logloss: 0.13081 |  0:04:30s\n",
      "epoch 98 | loss: 0.21385 | train_balanced_accuracy: 0.91848 | train_logloss: 0.13055 |  0:04:33s\n",
      "epoch 99 | loss: 0.18762 | train_balanced_accuracy: 0.92464 | train_logloss: 0.11693 |  0:04:36s\n",
      "Stop training because you reached max_epochs = 100 with best_epoch = 96 and best_train_logloss = 0.11025\n",
      "Best weights from best epoch are automatically used!\n"
     ]
    }
   ],
   "source": [
    "tab0_clf.fit(\n",
    "    X_train=X_train.values, y_train=y_train.values.reshape((1806,)),\n",
    "    eval_set=[(X_train.values, y_train.values.reshape((1806,)))],\n",
    "    eval_name=['train'],\n",
    "    eval_metric=['balanced_accuracy','logloss'],\n",
    "    max_epochs=100, patience=100,\n",
    "    batch_size=64, virtual_batch_size=32\n",
    ")"
   ]
  },
  {
   "cell_type": "code",
   "execution_count": 126,
   "metadata": {
    "execution": {
     "iopub.execute_input": "2021-07-18T06:47:30.175717Z",
     "iopub.status.busy": "2021-07-18T06:47:30.175338Z",
     "iopub.status.idle": "2021-07-18T06:47:30.296283Z",
     "shell.execute_reply": "2021-07-18T06:47:30.295283Z",
     "shell.execute_reply.started": "2021-07-18T06:47:30.175675Z"
    }
   },
   "outputs": [],
   "source": [
    "y_test_pred_tab0=tab0_clf.predict(X_test.values)\n",
    "y_test_proba_tab0=tab0_clf.predict_proba(X_test.values)"
   ]
  },
  {
   "cell_type": "code",
   "execution_count": 127,
   "metadata": {
    "execution": {
     "iopub.execute_input": "2021-07-18T06:47:31.655071Z",
     "iopub.status.busy": "2021-07-18T06:47:31.654684Z",
     "iopub.status.idle": "2021-07-18T06:47:31.675035Z",
     "shell.execute_reply": "2021-07-18T06:47:31.673905Z",
     "shell.execute_reply.started": "2021-07-18T06:47:31.655038Z"
    }
   },
   "outputs": [],
   "source": [
    "tab0_clf_accuracy=balanced_accuracy_score(y_test,y_test_pred_tab0)\n",
    "tab0_clf_f1=f1_score(y_test,y_test_pred_tab0,average='weighted')\n",
    "tab0_clf_auc=roc_auc_score(y_test,y_test_proba_tab0,average='weighted',multi_class='ovr')\n",
    "tab0_clf_logloss=log_loss(y_test,y_test_proba_tab0)"
   ]
  },
  {
   "cell_type": "code",
   "execution_count": 128,
   "metadata": {
    "execution": {
     "iopub.execute_input": "2021-07-18T06:47:32.969707Z",
     "iopub.status.busy": "2021-07-18T06:47:32.969293Z",
     "iopub.status.idle": "2021-07-18T06:47:32.976557Z",
     "shell.execute_reply": "2021-07-18T06:47:32.975507Z",
     "shell.execute_reply.started": "2021-07-18T06:47:32.969670Z"
    }
   },
   "outputs": [
    {
     "data": {
      "text/plain": [
       "(0.9036330049261084,\n",
       " 0.9314409683268211,\n",
       " 0.9841251016943212,\n",
       " 0.18160143594288447)"
      ]
     },
     "execution_count": 128,
     "metadata": {},
     "output_type": "execute_result"
    }
   ],
   "source": [
    "tab0_clf_accuracy,tab0_clf_f1,tab0_clf_auc,tab0_clf_logloss"
   ]
  },
  {
   "cell_type": "code",
   "execution_count": null,
   "metadata": {},
   "outputs": [],
   "source": [
    "tab1_clf = TabNetClassifier(\n",
    "    n_d=32, n_a=32, n_steps=2,\n",
    "    gamma=1.3, n_independent=2, n_shared=2,\n",
    "   # cat_idxs=cat_idxs,\n",
    "    #cat_dims=cat_dims,\n",
    "   #cat_emb_dim=1,\n",
    "   # lambda_sparse=1e-4, momentum=0.3,\n",
    "    optimizer_fn=torch.optim.Adam,\n",
    "    optimizer_params=dict(lr=2e-2),\n",
    "    scheduler_params = {\"gamma\": 0.95,\n",
    "                     \"step_size\": 20},\n",
    "    scheduler_fn=torch.optim.lr_scheduler.StepLR, epsilon=1e-15\n",
    ")"
   ]
  },
  {
   "cell_type": "code",
   "execution_count": 138,
   "metadata": {
    "execution": {
     "iopub.execute_input": "2021-07-18T07:01:38.472381Z",
     "iopub.status.busy": "2021-07-18T07:01:38.471811Z",
     "iopub.status.idle": "2021-07-18T07:01:38.481434Z",
     "shell.execute_reply": "2021-07-18T07:01:38.480216Z",
     "shell.execute_reply.started": "2021-07-18T07:01:38.472346Z"
    }
   },
   "outputs": [
    {
     "name": "stdout",
     "output_type": "stream",
     "text": [
      "Device used : cpu\n"
     ]
    }
   ],
   "source": [
    "tab1_clf = TabNetClassifier(\n",
    "    n_d=32, n_a=32, n_steps=2,\n",
    "    gamma=1.3, n_independent=2, n_shared=2,\n",
    "   # cat_idxs=cat_idxs,\n",
    "    #cat_dims=cat_dims,\n",
    "   #cat_emb_dim=1,\n",
    "   lambda_sparse=0.001, momentum=0.01,\n",
    "    optimizer_fn=torch.optim.Adam,\n",
    "    optimizer_params=dict(lr=2e-2),\n",
    "    scheduler_params = {\"gamma\": 0.95,\n",
    "                     \"step_size\": 20},\n",
    "    scheduler_fn=torch.optim.lr_scheduler.StepLR, epsilon=1e-15\n",
    ")"
   ]
  },
  {
   "cell_type": "code",
   "execution_count": 139,
   "metadata": {
    "execution": {
     "iopub.execute_input": "2021-07-18T07:01:39.587066Z",
     "iopub.status.busy": "2021-07-18T07:01:39.586690Z",
     "iopub.status.idle": "2021-07-18T07:06:16.894472Z",
     "shell.execute_reply": "2021-07-18T07:06:16.893539Z",
     "shell.execute_reply.started": "2021-07-18T07:01:39.587032Z"
    }
   },
   "outputs": [
    {
     "name": "stdout",
     "output_type": "stream",
     "text": [
      "epoch 0  | loss: 0.97393 | train_balanced_accuracy: 0.3379  | train_logloss: 0.87993 |  0:00:02s\n",
      "epoch 1  | loss: 0.59008 | train_balanced_accuracy: 0.42626 | train_logloss: 0.82685 |  0:00:05s\n",
      "epoch 2  | loss: 0.57382 | train_balanced_accuracy: 0.50374 | train_logloss: 0.78012 |  0:00:08s\n",
      "epoch 3  | loss: 0.50381 | train_balanced_accuracy: 0.56742 | train_logloss: 0.62227 |  0:00:11s\n",
      "epoch 4  | loss: 0.48383 | train_balanced_accuracy: 0.6913  | train_logloss: 0.55669 |  0:00:14s\n",
      "epoch 5  | loss: 0.46515 | train_balanced_accuracy: 0.58254 | train_logloss: 0.54876 |  0:00:17s\n",
      "epoch 6  | loss: 0.45331 | train_balanced_accuracy: 0.71893 | train_logloss: 0.53325 |  0:00:20s\n",
      "epoch 7  | loss: 0.43956 | train_balanced_accuracy: 0.7111  | train_logloss: 0.53239 |  0:00:23s\n",
      "epoch 8  | loss: 0.38953 | train_balanced_accuracy: 0.77535 | train_logloss: 0.46028 |  0:00:25s\n",
      "epoch 9  | loss: 0.3999  | train_balanced_accuracy: 0.77611 | train_logloss: 0.45474 |  0:00:28s\n",
      "epoch 10 | loss: 0.37301 | train_balanced_accuracy: 0.80044 | train_logloss: 0.33581 |  0:00:31s\n",
      "epoch 11 | loss: 0.36585 | train_balanced_accuracy: 0.76796 | train_logloss: 0.36314 |  0:00:33s\n",
      "epoch 12 | loss: 0.40504 | train_balanced_accuracy: 0.79156 | train_logloss: 0.35678 |  0:00:36s\n",
      "epoch 13 | loss: 0.35688 | train_balanced_accuracy: 0.82618 | train_logloss: 0.32245 |  0:00:39s\n",
      "epoch 14 | loss: 0.38015 | train_balanced_accuracy: 0.83914 | train_logloss: 0.32041 |  0:00:41s\n",
      "epoch 15 | loss: 0.36896 | train_balanced_accuracy: 0.84353 | train_logloss: 0.28583 |  0:00:45s\n",
      "epoch 16 | loss: 0.35676 | train_balanced_accuracy: 0.83673 | train_logloss: 0.27145 |  0:00:48s\n",
      "epoch 17 | loss: 0.31741 | train_balanced_accuracy: 0.86361 | train_logloss: 0.2857  |  0:00:51s\n",
      "epoch 18 | loss: 0.36134 | train_balanced_accuracy: 0.85632 | train_logloss: 0.26665 |  0:00:53s\n",
      "epoch 19 | loss: 0.30754 | train_balanced_accuracy: 0.88908 | train_logloss: 0.22864 |  0:00:56s\n",
      "epoch 20 | loss: 0.30419 | train_balanced_accuracy: 0.89569 | train_logloss: 0.23974 |  0:00:58s\n",
      "epoch 21 | loss: 0.27044 | train_balanced_accuracy: 0.91032 | train_logloss: 0.2054  |  0:01:01s\n",
      "epoch 22 | loss: 0.31108 | train_balanced_accuracy: 0.83583 | train_logloss: 0.25712 |  0:01:04s\n",
      "epoch 23 | loss: 0.29356 | train_balanced_accuracy: 0.85797 | train_logloss: 0.20059 |  0:01:06s\n",
      "epoch 24 | loss: 0.2794  | train_balanced_accuracy: 0.86486 | train_logloss: 0.20127 |  0:01:09s\n",
      "epoch 25 | loss: 0.28051 | train_balanced_accuracy: 0.89116 | train_logloss: 0.18931 |  0:01:12s\n",
      "epoch 26 | loss: 0.28382 | train_balanced_accuracy: 0.89781 | train_logloss: 0.20703 |  0:01:15s\n",
      "epoch 27 | loss: 0.25166 | train_balanced_accuracy: 0.9088  | train_logloss: 0.20112 |  0:01:18s\n",
      "epoch 28 | loss: 0.27703 | train_balanced_accuracy: 0.89951 | train_logloss: 0.203   |  0:01:21s\n",
      "epoch 29 | loss: 0.29481 | train_balanced_accuracy: 0.89604 | train_logloss: 0.21464 |  0:01:23s\n",
      "epoch 30 | loss: 0.27055 | train_balanced_accuracy: 0.91182 | train_logloss: 0.1898  |  0:01:26s\n",
      "epoch 31 | loss: 0.28517 | train_balanced_accuracy: 0.83013 | train_logloss: 0.20005 |  0:01:29s\n",
      "epoch 32 | loss: 0.26478 | train_balanced_accuracy: 0.90595 | train_logloss: 0.19976 |  0:01:31s\n",
      "epoch 33 | loss: 0.26394 | train_balanced_accuracy: 0.90676 | train_logloss: 0.18587 |  0:01:34s\n",
      "epoch 34 | loss: 0.23799 | train_balanced_accuracy: 0.91895 | train_logloss: 0.17768 |  0:01:37s\n",
      "epoch 35 | loss: 0.24743 | train_balanced_accuracy: 0.87822 | train_logloss: 0.1812  |  0:01:39s\n",
      "epoch 36 | loss: 0.25931 | train_balanced_accuracy: 0.91091 | train_logloss: 0.16669 |  0:01:42s\n",
      "epoch 37 | loss: 0.22628 | train_balanced_accuracy: 0.88502 | train_logloss: 0.16638 |  0:01:45s\n",
      "epoch 38 | loss: 0.25794 | train_balanced_accuracy: 0.90069 | train_logloss: 0.18341 |  0:01:47s\n",
      "epoch 39 | loss: 0.24535 | train_balanced_accuracy: 0.91393 | train_logloss: 0.16438 |  0:01:51s\n",
      "epoch 40 | loss: 0.24319 | train_balanced_accuracy: 0.90713 | train_logloss: 0.16569 |  0:01:53s\n",
      "epoch 41 | loss: 0.25156 | train_balanced_accuracy: 0.92135 | train_logloss: 0.17141 |  0:01:56s\n",
      "epoch 42 | loss: 0.22624 | train_balanced_accuracy: 0.9259  | train_logloss: 0.14562 |  0:01:59s\n",
      "epoch 43 | loss: 0.22234 | train_balanced_accuracy: 0.92679 | train_logloss: 0.16158 |  0:02:01s\n",
      "epoch 44 | loss: 0.2315  | train_balanced_accuracy: 0.91787 | train_logloss: 0.15589 |  0:02:04s\n",
      "epoch 45 | loss: 0.24779 | train_balanced_accuracy: 0.91373 | train_logloss: 0.1698  |  0:02:07s\n",
      "epoch 46 | loss: 0.22866 | train_balanced_accuracy: 0.91802 | train_logloss: 0.16381 |  0:02:09s\n",
      "epoch 47 | loss: 0.21945 | train_balanced_accuracy: 0.92663 | train_logloss: 0.15297 |  0:02:12s\n",
      "epoch 48 | loss: 0.24782 | train_balanced_accuracy: 0.90547 | train_logloss: 0.1806  |  0:02:15s\n",
      "epoch 49 | loss: 0.21439 | train_balanced_accuracy: 0.92095 | train_logloss: 0.19957 |  0:02:17s\n",
      "epoch 50 | loss: 0.23789 | train_balanced_accuracy: 0.91728 | train_logloss: 0.18429 |  0:02:21s\n",
      "epoch 51 | loss: 0.22332 | train_balanced_accuracy: 0.91316 | train_logloss: 0.15537 |  0:02:24s\n",
      "epoch 52 | loss: 0.23073 | train_balanced_accuracy: 0.91085 | train_logloss: 0.20706 |  0:02:26s\n",
      "epoch 53 | loss: 0.25859 | train_balanced_accuracy: 0.93239 | train_logloss: 0.18707 |  0:02:29s\n",
      "epoch 54 | loss: 0.2369  | train_balanced_accuracy: 0.89255 | train_logloss: 0.16964 |  0:02:32s\n",
      "epoch 55 | loss: 0.21482 | train_balanced_accuracy: 0.91347 | train_logloss: 0.14477 |  0:02:34s\n",
      "epoch 56 | loss: 0.20153 | train_balanced_accuracy: 0.93114 | train_logloss: 0.17161 |  0:02:37s\n",
      "epoch 57 | loss: 0.23508 | train_balanced_accuracy: 0.92587 | train_logloss: 0.1864  |  0:02:40s\n",
      "epoch 58 | loss: 0.24274 | train_balanced_accuracy: 0.93935 | train_logloss: 0.16651 |  0:02:43s\n",
      "epoch 59 | loss: 0.21697 | train_balanced_accuracy: 0.91995 | train_logloss: 0.15887 |  0:02:45s\n",
      "epoch 60 | loss: 0.20771 | train_balanced_accuracy: 0.94403 | train_logloss: 0.13317 |  0:02:48s\n",
      "epoch 61 | loss: 0.197   | train_balanced_accuracy: 0.9352  | train_logloss: 0.14046 |  0:02:50s\n",
      "epoch 62 | loss: 0.20256 | train_balanced_accuracy: 0.93945 | train_logloss: 0.14732 |  0:02:54s\n",
      "epoch 63 | loss: 0.21375 | train_balanced_accuracy: 0.94143 | train_logloss: 0.14455 |  0:02:57s\n",
      "epoch 64 | loss: 0.1956  | train_balanced_accuracy: 0.92613 | train_logloss: 0.16032 |  0:02:59s\n",
      "epoch 65 | loss: 0.20123 | train_balanced_accuracy: 0.9349  | train_logloss: 0.13959 |  0:03:02s\n",
      "epoch 66 | loss: 0.21213 | train_balanced_accuracy: 0.94001 | train_logloss: 0.12839 |  0:03:05s\n",
      "epoch 67 | loss: 0.19008 | train_balanced_accuracy: 0.93526 | train_logloss: 0.1335  |  0:03:07s\n",
      "epoch 68 | loss: 0.18932 | train_balanced_accuracy: 0.9398  | train_logloss: 0.1247  |  0:03:10s\n",
      "epoch 69 | loss: 0.21121 | train_balanced_accuracy: 0.95307 | train_logloss: 0.13878 |  0:03:13s\n",
      "epoch 70 | loss: 0.19606 | train_balanced_accuracy: 0.94044 | train_logloss: 0.1327  |  0:03:16s\n",
      "epoch 71 | loss: 0.20437 | train_balanced_accuracy: 0.893   | train_logloss: 0.17143 |  0:03:18s\n",
      "epoch 72 | loss: 0.22824 | train_balanced_accuracy: 0.88991 | train_logloss: 0.19838 |  0:03:21s\n",
      "epoch 73 | loss: 0.22558 | train_balanced_accuracy: 0.88941 | train_logloss: 0.16853 |  0:03:24s\n",
      "epoch 74 | loss: 0.26038 | train_balanced_accuracy: 0.9076  | train_logloss: 0.17532 |  0:03:27s\n",
      "epoch 75 | loss: 0.208   | train_balanced_accuracy: 0.8968  | train_logloss: 0.16548 |  0:03:30s\n",
      "epoch 76 | loss: 0.19885 | train_balanced_accuracy: 0.89216 | train_logloss: 0.14145 |  0:03:33s\n",
      "epoch 77 | loss: 0.19738 | train_balanced_accuracy: 0.92347 | train_logloss: 0.13818 |  0:03:35s\n",
      "epoch 78 | loss: 0.21785 | train_balanced_accuracy: 0.92711 | train_logloss: 0.17128 |  0:03:38s\n",
      "epoch 79 | loss: 0.20509 | train_balanced_accuracy: 0.91057 | train_logloss: 0.15587 |  0:03:41s\n",
      "epoch 80 | loss: 0.17371 | train_balanced_accuracy: 0.89241 | train_logloss: 0.14806 |  0:03:43s\n",
      "epoch 81 | loss: 0.21192 | train_balanced_accuracy: 0.92991 | train_logloss: 0.1413  |  0:03:46s\n",
      "epoch 82 | loss: 0.19276 | train_balanced_accuracy: 0.93817 | train_logloss: 0.13883 |  0:03:49s\n",
      "epoch 83 | loss: 0.18381 | train_balanced_accuracy: 0.94326 | train_logloss: 0.13292 |  0:03:51s\n",
      "epoch 84 | loss: 0.201   | train_balanced_accuracy: 0.93552 | train_logloss: 0.13175 |  0:03:54s\n",
      "epoch 85 | loss: 0.18752 | train_balanced_accuracy: 0.95054 | train_logloss: 0.13077 |  0:03:58s\n",
      "epoch 86 | loss: 0.18078 | train_balanced_accuracy: 0.94745 | train_logloss: 0.13626 |  0:04:00s\n",
      "epoch 87 | loss: 0.18133 | train_balanced_accuracy: 0.91949 | train_logloss: 0.13512 |  0:04:03s\n",
      "epoch 88 | loss: 0.1741  | train_balanced_accuracy: 0.95009 | train_logloss: 0.13005 |  0:04:06s\n",
      "epoch 89 | loss: 0.18899 | train_balanced_accuracy: 0.93624 | train_logloss: 0.1291  |  0:04:08s\n",
      "epoch 90 | loss: 0.18849 | train_balanced_accuracy: 0.91716 | train_logloss: 0.13721 |  0:04:11s\n",
      "epoch 91 | loss: 0.18671 | train_balanced_accuracy: 0.9347  | train_logloss: 0.12734 |  0:04:14s\n",
      "epoch 92 | loss: 0.19321 | train_balanced_accuracy: 0.9171  | train_logloss: 0.13129 |  0:04:17s\n",
      "epoch 93 | loss: 0.18139 | train_balanced_accuracy: 0.96189 | train_logloss: 0.11559 |  0:04:19s\n",
      "epoch 94 | loss: 0.17615 | train_balanced_accuracy: 0.96097 | train_logloss: 0.12471 |  0:04:22s\n",
      "epoch 95 | loss: 0.16324 | train_balanced_accuracy: 0.95457 | train_logloss: 0.12023 |  0:04:25s\n",
      "epoch 96 | loss: 0.18503 | train_balanced_accuracy: 0.95603 | train_logloss: 0.10916 |  0:04:28s\n",
      "epoch 97 | loss: 0.16556 | train_balanced_accuracy: 0.95387 | train_logloss: 0.11379 |  0:04:31s\n",
      "epoch 98 | loss: 0.18835 | train_balanced_accuracy: 0.94063 | train_logloss: 0.12588 |  0:04:34s\n",
      "epoch 99 | loss: 0.18122 | train_balanced_accuracy: 0.91973 | train_logloss: 0.13158 |  0:04:37s\n",
      "Stop training because you reached max_epochs = 100 with best_epoch = 96 and best_train_logloss = 0.10916\n",
      "Best weights from best epoch are automatically used!\n"
     ]
    }
   ],
   "source": [
    "tab1_clf.fit(\n",
    "    X_train=X_train.values, y_train=y_train.values.reshape((1806,)),\n",
    "    eval_set=[(X_train.values, y_train.values.reshape((1806,)))],\n",
    "    eval_name=['train'],\n",
    "    eval_metric=['balanced_accuracy','logloss'],\n",
    "    max_epochs=100, patience=100,\n",
    "    batch_size=64, virtual_batch_size=32\n",
    ")"
   ]
  },
  {
   "cell_type": "code",
   "execution_count": 140,
   "metadata": {
    "execution": {
     "iopub.execute_input": "2021-07-18T07:06:33.022276Z",
     "iopub.status.busy": "2021-07-18T07:06:33.021519Z",
     "iopub.status.idle": "2021-07-18T07:06:33.166943Z",
     "shell.execute_reply": "2021-07-18T07:06:33.166115Z",
     "shell.execute_reply.started": "2021-07-18T07:06:33.022221Z"
    }
   },
   "outputs": [],
   "source": [
    "y_test_pred_tab1=tab1_clf.predict(X_test.values)\n",
    "y_test_proba_tab1=tab1_clf.predict_proba(X_test.values)\n",
    "tab1_clf_accuracy=balanced_accuracy_score(y_test,y_test_pred_tab1)\n",
    "tab1_clf_f1=f1_score(y_test,y_test_pred_tab1,average='weighted')\n",
    "tab1_clf_auc=roc_auc_score(y_test,y_test_proba_tab1,average='weighted',multi_class='ovr')\n",
    "tab1_clf_logloss=log_loss(y_test,y_test_proba_tab1)"
   ]
  },
  {
   "cell_type": "code",
   "execution_count": 141,
   "metadata": {
    "execution": {
     "iopub.execute_input": "2021-07-18T07:06:34.006390Z",
     "iopub.status.busy": "2021-07-18T07:06:34.005747Z",
     "iopub.status.idle": "2021-07-18T07:06:34.014354Z",
     "shell.execute_reply": "2021-07-18T07:06:34.013304Z",
     "shell.execute_reply.started": "2021-07-18T07:06:34.006335Z"
    }
   },
   "outputs": [
    {
     "data": {
      "text/plain": [
       "(0.918082922824302, 0.9317258306557744, 0.9861095698691114, 0.1711797432157943)"
      ]
     },
     "execution_count": 141,
     "metadata": {},
     "output_type": "execute_result"
    }
   ],
   "source": [
    "tab1_clf_accuracy,tab1_clf_f1,tab1_clf_auc,tab1_clf_logloss"
   ]
  },
  {
   "cell_type": "code",
   "execution_count": 149,
   "metadata": {
    "execution": {
     "iopub.execute_input": "2021-07-18T07:13:38.375531Z",
     "iopub.status.busy": "2021-07-18T07:13:38.375118Z",
     "iopub.status.idle": "2021-07-18T07:13:38.382224Z",
     "shell.execute_reply": "2021-07-18T07:13:38.381127Z",
     "shell.execute_reply.started": "2021-07-18T07:13:38.375495Z"
    }
   },
   "outputs": [
    {
     "name": "stdout",
     "output_type": "stream",
     "text": [
      "TabNet(\n",
      "  (embedder): EmbeddingGenerator()\n",
      "  (tabnet): TabNetNoEmbeddings(\n",
      "    (initial_bn): BatchNorm1d(58, eps=1e-05, momentum=0.01, affine=True, track_running_stats=True)\n",
      "    (encoder): TabNetEncoder(\n",
      "      (initial_bn): BatchNorm1d(58, eps=1e-05, momentum=0.01, affine=True, track_running_stats=True)\n",
      "      (initial_splitter): FeatTransformer(\n",
      "        (shared): GLU_Block(\n",
      "          (shared_layers): ModuleList(\n",
      "            (0): Linear(in_features=58, out_features=128, bias=False)\n",
      "            (1): Linear(in_features=64, out_features=128, bias=False)\n",
      "          )\n",
      "          (glu_layers): ModuleList(\n",
      "            (0): GLU_Layer(\n",
      "              (fc): Linear(in_features=58, out_features=128, bias=False)\n",
      "              (bn): GBN(\n",
      "                (bn): BatchNorm1d(128, eps=1e-05, momentum=0.01, affine=True, track_running_stats=True)\n",
      "              )\n",
      "            )\n",
      "            (1): GLU_Layer(\n",
      "              (fc): Linear(in_features=64, out_features=128, bias=False)\n",
      "              (bn): GBN(\n",
      "                (bn): BatchNorm1d(128, eps=1e-05, momentum=0.01, affine=True, track_running_stats=True)\n",
      "              )\n",
      "            )\n",
      "          )\n",
      "        )\n",
      "        (specifics): GLU_Block(\n",
      "          (glu_layers): ModuleList(\n",
      "            (0): GLU_Layer(\n",
      "              (fc): Linear(in_features=64, out_features=128, bias=False)\n",
      "              (bn): GBN(\n",
      "                (bn): BatchNorm1d(128, eps=1e-05, momentum=0.01, affine=True, track_running_stats=True)\n",
      "              )\n",
      "            )\n",
      "            (1): GLU_Layer(\n",
      "              (fc): Linear(in_features=64, out_features=128, bias=False)\n",
      "              (bn): GBN(\n",
      "                (bn): BatchNorm1d(128, eps=1e-05, momentum=0.01, affine=True, track_running_stats=True)\n",
      "              )\n",
      "            )\n",
      "          )\n",
      "        )\n",
      "      )\n",
      "      (feat_transformers): ModuleList(\n",
      "        (0): FeatTransformer(\n",
      "          (shared): GLU_Block(\n",
      "            (shared_layers): ModuleList(\n",
      "              (0): Linear(in_features=58, out_features=128, bias=False)\n",
      "              (1): Linear(in_features=64, out_features=128, bias=False)\n",
      "            )\n",
      "            (glu_layers): ModuleList(\n",
      "              (0): GLU_Layer(\n",
      "                (fc): Linear(in_features=58, out_features=128, bias=False)\n",
      "                (bn): GBN(\n",
      "                  (bn): BatchNorm1d(128, eps=1e-05, momentum=0.01, affine=True, track_running_stats=True)\n",
      "                )\n",
      "              )\n",
      "              (1): GLU_Layer(\n",
      "                (fc): Linear(in_features=64, out_features=128, bias=False)\n",
      "                (bn): GBN(\n",
      "                  (bn): BatchNorm1d(128, eps=1e-05, momentum=0.01, affine=True, track_running_stats=True)\n",
      "                )\n",
      "              )\n",
      "            )\n",
      "          )\n",
      "          (specifics): GLU_Block(\n",
      "            (glu_layers): ModuleList(\n",
      "              (0): GLU_Layer(\n",
      "                (fc): Linear(in_features=64, out_features=128, bias=False)\n",
      "                (bn): GBN(\n",
      "                  (bn): BatchNorm1d(128, eps=1e-05, momentum=0.01, affine=True, track_running_stats=True)\n",
      "                )\n",
      "              )\n",
      "              (1): GLU_Layer(\n",
      "                (fc): Linear(in_features=64, out_features=128, bias=False)\n",
      "                (bn): GBN(\n",
      "                  (bn): BatchNorm1d(128, eps=1e-05, momentum=0.01, affine=True, track_running_stats=True)\n",
      "                )\n",
      "              )\n",
      "            )\n",
      "          )\n",
      "        )\n",
      "        (1): FeatTransformer(\n",
      "          (shared): GLU_Block(\n",
      "            (shared_layers): ModuleList(\n",
      "              (0): Linear(in_features=58, out_features=128, bias=False)\n",
      "              (1): Linear(in_features=64, out_features=128, bias=False)\n",
      "            )\n",
      "            (glu_layers): ModuleList(\n",
      "              (0): GLU_Layer(\n",
      "                (fc): Linear(in_features=58, out_features=128, bias=False)\n",
      "                (bn): GBN(\n",
      "                  (bn): BatchNorm1d(128, eps=1e-05, momentum=0.01, affine=True, track_running_stats=True)\n",
      "                )\n",
      "              )\n",
      "              (1): GLU_Layer(\n",
      "                (fc): Linear(in_features=64, out_features=128, bias=False)\n",
      "                (bn): GBN(\n",
      "                  (bn): BatchNorm1d(128, eps=1e-05, momentum=0.01, affine=True, track_running_stats=True)\n",
      "                )\n",
      "              )\n",
      "            )\n",
      "          )\n",
      "          (specifics): GLU_Block(\n",
      "            (glu_layers): ModuleList(\n",
      "              (0): GLU_Layer(\n",
      "                (fc): Linear(in_features=64, out_features=128, bias=False)\n",
      "                (bn): GBN(\n",
      "                  (bn): BatchNorm1d(128, eps=1e-05, momentum=0.01, affine=True, track_running_stats=True)\n",
      "                )\n",
      "              )\n",
      "              (1): GLU_Layer(\n",
      "                (fc): Linear(in_features=64, out_features=128, bias=False)\n",
      "                (bn): GBN(\n",
      "                  (bn): BatchNorm1d(128, eps=1e-05, momentum=0.01, affine=True, track_running_stats=True)\n",
      "                )\n",
      "              )\n",
      "            )\n",
      "          )\n",
      "        )\n",
      "      )\n",
      "      (att_transformers): ModuleList(\n",
      "        (0): AttentiveTransformer(\n",
      "          (fc): Linear(in_features=32, out_features=58, bias=False)\n",
      "          (bn): GBN(\n",
      "            (bn): BatchNorm1d(58, eps=1e-05, momentum=0.01, affine=True, track_running_stats=True)\n",
      "          )\n",
      "          (selector): Sparsemax()\n",
      "        )\n",
      "        (1): AttentiveTransformer(\n",
      "          (fc): Linear(in_features=32, out_features=58, bias=False)\n",
      "          (bn): GBN(\n",
      "            (bn): BatchNorm1d(58, eps=1e-05, momentum=0.01, affine=True, track_running_stats=True)\n",
      "          )\n",
      "          (selector): Sparsemax()\n",
      "        )\n",
      "      )\n",
      "    )\n",
      "    (final_mapping): Linear(in_features=32, out_features=3, bias=False)\n",
      "  )\n",
      ")\n"
     ]
    }
   ],
   "source": [
    "print(tab1_clf.network)"
   ]
  },
  {
   "cell_type": "code",
   "execution_count": 157,
   "metadata": {
    "execution": {
     "iopub.execute_input": "2021-07-18T07:15:32.526567Z",
     "iopub.status.busy": "2021-07-18T07:15:32.526158Z",
     "iopub.status.idle": "2021-07-18T07:15:32.534247Z",
     "shell.execute_reply": "2021-07-18T07:15:32.533507Z",
     "shell.execute_reply.started": "2021-07-18T07:15:32.526530Z"
    }
   },
   "outputs": [
    {
     "data": {
      "text/plain": [
       "array([[1.21361099e-01],\n",
       "       [2.23840483e-02],\n",
       "       [9.69557210e-03],\n",
       "       [0.00000000e+00],\n",
       "       [5.66403954e-03],\n",
       "       [0.00000000e+00],\n",
       "       [0.00000000e+00],\n",
       "       [0.00000000e+00],\n",
       "       [4.91132206e-02],\n",
       "       [1.23050176e-02],\n",
       "       [0.00000000e+00],\n",
       "       [0.00000000e+00],\n",
       "       [0.00000000e+00],\n",
       "       [9.81269287e-02],\n",
       "       [5.27970619e-03],\n",
       "       [0.00000000e+00],\n",
       "       [1.08032448e-02],\n",
       "       [0.00000000e+00],\n",
       "       [6.09870579e-03],\n",
       "       [0.00000000e+00],\n",
       "       [3.45188664e-04],\n",
       "       [7.13733828e-03],\n",
       "       [0.00000000e+00],\n",
       "       [0.00000000e+00],\n",
       "       [0.00000000e+00],\n",
       "       [0.00000000e+00],\n",
       "       [4.00769953e-03],\n",
       "       [0.00000000e+00],\n",
       "       [2.70164991e-05],\n",
       "       [0.00000000e+00],\n",
       "       [2.37198170e-03],\n",
       "       [0.00000000e+00],\n",
       "       [0.00000000e+00],\n",
       "       [0.00000000e+00],\n",
       "       [6.31165054e-02],\n",
       "       [0.00000000e+00],\n",
       "       [0.00000000e+00],\n",
       "       [6.12384891e-02],\n",
       "       [0.00000000e+00],\n",
       "       [0.00000000e+00],\n",
       "       [0.00000000e+00],\n",
       "       [0.00000000e+00],\n",
       "       [2.56684554e-01],\n",
       "       [8.66416365e-03],\n",
       "       [0.00000000e+00],\n",
       "       [0.00000000e+00],\n",
       "       [0.00000000e+00],\n",
       "       [0.00000000e+00],\n",
       "       [0.00000000e+00],\n",
       "       [0.00000000e+00],\n",
       "       [0.00000000e+00],\n",
       "       [0.00000000e+00],\n",
       "       [0.00000000e+00],\n",
       "       [0.00000000e+00],\n",
       "       [0.00000000e+00],\n",
       "       [2.36519718e-01],\n",
       "       [4.79215730e-03],\n",
       "       [1.42636053e-02]])"
      ]
     },
     "execution_count": 157,
     "metadata": {},
     "output_type": "execute_result"
    }
   ],
   "source": [
    "tab1_clf.feature_importances_.reshape(58,1)"
   ]
  },
  {
   "cell_type": "code",
   "execution_count": 163,
   "metadata": {
    "execution": {
     "iopub.execute_input": "2021-07-18T07:16:33.947818Z",
     "iopub.status.busy": "2021-07-18T07:16:33.947268Z",
     "iopub.status.idle": "2021-07-18T07:16:33.954450Z",
     "shell.execute_reply": "2021-07-18T07:16:33.953538Z",
     "shell.execute_reply.started": "2021-07-18T07:16:33.947776Z"
    }
   },
   "outputs": [],
   "source": [
    "feat_import=pd.DataFrame(tab1_clf.feature_importances_.reshape((58,1)),index=list(X_train.columns),columns=['feature importance'])"
   ]
  },
  {
   "cell_type": "code",
   "execution_count": 170,
   "metadata": {
    "execution": {
     "iopub.execute_input": "2021-07-18T07:22:09.995523Z",
     "iopub.status.busy": "2021-07-18T07:22:09.995181Z",
     "iopub.status.idle": "2021-07-18T07:22:10.001978Z",
     "shell.execute_reply": "2021-07-18T07:22:10.000625Z",
     "shell.execute_reply.started": "2021-07-18T07:22:09.995495Z"
    }
   },
   "outputs": [],
   "source": [
    "feat_import.to_csv('feature importance.csv')"
   ]
  },
  {
   "cell_type": "code",
   "execution_count": 166,
   "metadata": {
    "execution": {
     "iopub.execute_input": "2021-07-18T07:17:47.436923Z",
     "iopub.status.busy": "2021-07-18T07:17:47.436475Z",
     "iopub.status.idle": "2021-07-18T07:17:47.453286Z",
     "shell.execute_reply": "2021-07-18T07:17:47.452119Z",
     "shell.execute_reply.started": "2021-07-18T07:17:47.436885Z"
    }
   },
   "outputs": [
    {
     "data": {
      "text/html": [
       "<div>\n",
       "<style scoped>\n",
       "    .dataframe tbody tr th:only-of-type {\n",
       "        vertical-align: middle;\n",
       "    }\n",
       "\n",
       "    .dataframe tbody tr th {\n",
       "        vertical-align: top;\n",
       "    }\n",
       "\n",
       "    .dataframe thead th {\n",
       "        text-align: right;\n",
       "    }\n",
       "</style>\n",
       "<table border=\"1\" class=\"dataframe\">\n",
       "  <thead>\n",
       "    <tr style=\"text-align: right;\">\n",
       "      <th></th>\n",
       "      <th>feature importance</th>\n",
       "    </tr>\n",
       "  </thead>\n",
       "  <tbody>\n",
       "    <tr>\n",
       "      <th>EG.ELC.ACCS.ZS</th>\n",
       "      <td>0.121361</td>\n",
       "    </tr>\n",
       "    <tr>\n",
       "      <th>EG.ELC.ACCS.RU.ZS</th>\n",
       "      <td>0.022384</td>\n",
       "    </tr>\n",
       "    <tr>\n",
       "      <th>EG.ELC.ACCS.UR.ZS</th>\n",
       "      <td>0.009696</td>\n",
       "    </tr>\n",
       "    <tr>\n",
       "      <th>NY.ADJ.SVNX.GN.ZS</th>\n",
       "      <td>0.000000</td>\n",
       "    </tr>\n",
       "    <tr>\n",
       "      <th>NV.AGR.EMPL.KD</th>\n",
       "      <td>0.005664</td>\n",
       "    </tr>\n",
       "    <tr>\n",
       "      <th>IS.AIR.GOOD.MT.K1</th>\n",
       "      <td>0.000000</td>\n",
       "    </tr>\n",
       "    <tr>\n",
       "      <th>IS.AIR.PSGR</th>\n",
       "      <td>0.000000</td>\n",
       "    </tr>\n",
       "    <tr>\n",
       "      <th>ER.FSH.AQUA.MT</th>\n",
       "      <td>0.000000</td>\n",
       "    </tr>\n",
       "    <tr>\n",
       "      <th>ER.FSH.CAPT.MT</th>\n",
       "      <td>0.049113</td>\n",
       "    </tr>\n",
       "    <tr>\n",
       "      <th>AG.YLD.CREL.KG</th>\n",
       "      <td>0.012305</td>\n",
       "    </tr>\n",
       "    <tr>\n",
       "      <th>EN.ATM.CO2E.KD.GD</th>\n",
       "      <td>0.000000</td>\n",
       "    </tr>\n",
       "    <tr>\n",
       "      <th>EN.ATM.CO2E.PP.GD.KD</th>\n",
       "      <td>0.000000</td>\n",
       "    </tr>\n",
       "    <tr>\n",
       "      <th>EN.ATM.CO2E.PP.GD</th>\n",
       "      <td>0.000000</td>\n",
       "    </tr>\n",
       "    <tr>\n",
       "      <th>EN.ATM.CO2E.PC</th>\n",
       "      <td>0.098127</td>\n",
       "    </tr>\n",
       "    <tr>\n",
       "      <th>NY.GDP.COAL.RT.ZS</th>\n",
       "      <td>0.005280</td>\n",
       "    </tr>\n",
       "    <tr>\n",
       "      <th>EG.EGY.PRIM.PP.KD</th>\n",
       "      <td>0.000000</td>\n",
       "    </tr>\n",
       "    <tr>\n",
       "      <th>NE.EXP.GNFS.ZS</th>\n",
       "      <td>0.010803</td>\n",
       "    </tr>\n",
       "    <tr>\n",
       "      <th>BX.KLT.DINV.WD.GD.ZS</th>\n",
       "      <td>0.000000</td>\n",
       "    </tr>\n",
       "    <tr>\n",
       "      <th>BX.KLT.DINV.CD.WD</th>\n",
       "      <td>0.006099</td>\n",
       "    </tr>\n",
       "    <tr>\n",
       "      <th>AG.LND.FRST.ZS</th>\n",
       "      <td>0.000000</td>\n",
       "    </tr>\n",
       "    <tr>\n",
       "      <th>AG.LND.FRST.K2</th>\n",
       "      <td>0.000345</td>\n",
       "    </tr>\n",
       "    <tr>\n",
       "      <th>NY.GDP.FRST.RT.ZS</th>\n",
       "      <td>0.007137</td>\n",
       "    </tr>\n",
       "    <tr>\n",
       "      <th>NY.GDP.MKTP.KD</th>\n",
       "      <td>0.000000</td>\n",
       "    </tr>\n",
       "    <tr>\n",
       "      <th>NY.GDP.MKTP.KN</th>\n",
       "      <td>0.000000</td>\n",
       "    </tr>\n",
       "    <tr>\n",
       "      <th>NY.GDP.MKTP.CN</th>\n",
       "      <td>0.000000</td>\n",
       "    </tr>\n",
       "    <tr>\n",
       "      <th>NY.GDP.MKTP.CD</th>\n",
       "      <td>0.000000</td>\n",
       "    </tr>\n",
       "    <tr>\n",
       "      <th>NY.GDP.MKTP.KD.ZG</th>\n",
       "      <td>0.004008</td>\n",
       "    </tr>\n",
       "    <tr>\n",
       "      <th>NY.GDP.PCAP.KN</th>\n",
       "      <td>0.000000</td>\n",
       "    </tr>\n",
       "    <tr>\n",
       "      <th>NY.GDP.PCAP.CN</th>\n",
       "      <td>0.000027</td>\n",
       "    </tr>\n",
       "    <tr>\n",
       "      <th>NY.GDP.PCAP.CD</th>\n",
       "      <td>0.000000</td>\n",
       "    </tr>\n",
       "    <tr>\n",
       "      <th>NY.GDP.PCAP.KD.ZG</th>\n",
       "      <td>0.002372</td>\n",
       "    </tr>\n",
       "    <tr>\n",
       "      <th>NY.GDP.MKTP.PP.KD</th>\n",
       "      <td>0.000000</td>\n",
       "    </tr>\n",
       "    <tr>\n",
       "      <th>NY.GDP.MKTP.PP.CD</th>\n",
       "      <td>0.000000</td>\n",
       "    </tr>\n",
       "    <tr>\n",
       "      <th>NY.GNP.PCAP.CN</th>\n",
       "      <td>0.000000</td>\n",
       "    </tr>\n",
       "    <tr>\n",
       "      <th>NY.GNP.MKTP.PC.CD</th>\n",
       "      <td>0.063117</td>\n",
       "    </tr>\n",
       "    <tr>\n",
       "      <th>NY.GNP.MKTP.PP.CD</th>\n",
       "      <td>0.000000</td>\n",
       "    </tr>\n",
       "    <tr>\n",
       "      <th>IT.NET.USER.ZS</th>\n",
       "      <td>0.000000</td>\n",
       "    </tr>\n",
       "    <tr>\n",
       "      <th>NV.IND.EMPL.KD</th>\n",
       "      <td>0.061238</td>\n",
       "    </tr>\n",
       "    <tr>\n",
       "      <th>NV.IND.MANF.ZS</th>\n",
       "      <td>0.000000</td>\n",
       "    </tr>\n",
       "    <tr>\n",
       "      <th>NV.IND.MANF.CD</th>\n",
       "      <td>0.000000</td>\n",
       "    </tr>\n",
       "    <tr>\n",
       "      <th>NV.MNF.TECH.ZS.UN</th>\n",
       "      <td>0.000000</td>\n",
       "    </tr>\n",
       "    <tr>\n",
       "      <th>NY.GDP.MINR.RT.ZS</th>\n",
       "      <td>0.000000</td>\n",
       "    </tr>\n",
       "    <tr>\n",
       "      <th>SH.DYN.MORT</th>\n",
       "      <td>0.256685</td>\n",
       "    </tr>\n",
       "    <tr>\n",
       "      <th>SH.DYN.MORT.FE</th>\n",
       "      <td>0.008664</td>\n",
       "    </tr>\n",
       "    <tr>\n",
       "      <th>SH.DYN.MORT.MA</th>\n",
       "      <td>0.000000</td>\n",
       "    </tr>\n",
       "    <tr>\n",
       "      <th>NY.GDP.NGAS.RT.ZS</th>\n",
       "      <td>0.000000</td>\n",
       "    </tr>\n",
       "    <tr>\n",
       "      <th>NY.GDP.PETR.RT.ZS</th>\n",
       "      <td>0.000000</td>\n",
       "    </tr>\n",
       "    <tr>\n",
       "      <th>BX.TRF.PWKR.DT.GD.ZS</th>\n",
       "      <td>0.000000</td>\n",
       "    </tr>\n",
       "    <tr>\n",
       "      <th>PA.NUS.PPP</th>\n",
       "      <td>0.000000</td>\n",
       "    </tr>\n",
       "    <tr>\n",
       "      <th>PA.NUS.PRVT.PP</th>\n",
       "      <td>0.000000</td>\n",
       "    </tr>\n",
       "    <tr>\n",
       "      <th>SE.PRM.DURS</th>\n",
       "      <td>0.000000</td>\n",
       "    </tr>\n",
       "    <tr>\n",
       "      <th>EG.ELC.RNEW.ZS</th>\n",
       "      <td>0.000000</td>\n",
       "    </tr>\n",
       "    <tr>\n",
       "      <th>EG.FEC.RNEW.ZS</th>\n",
       "      <td>0.000000</td>\n",
       "    </tr>\n",
       "    <tr>\n",
       "      <th>SE.ENR.PRIM.FM.ZS</th>\n",
       "      <td>0.000000</td>\n",
       "    </tr>\n",
       "    <tr>\n",
       "      <th>SE.SEC.DURS</th>\n",
       "      <td>0.000000</td>\n",
       "    </tr>\n",
       "    <tr>\n",
       "      <th>NV.SRV.EMPL.KD</th>\n",
       "      <td>0.236520</td>\n",
       "    </tr>\n",
       "    <tr>\n",
       "      <th>ER.FSH.PROD.MT</th>\n",
       "      <td>0.004792</td>\n",
       "    </tr>\n",
       "    <tr>\n",
       "      <th>NY.GDP.TOTL.RT.ZS</th>\n",
       "      <td>0.014264</td>\n",
       "    </tr>\n",
       "  </tbody>\n",
       "</table>\n",
       "</div>"
      ],
      "text/plain": [
       "                      feature importance\n",
       "EG.ELC.ACCS.ZS                  0.121361\n",
       "EG.ELC.ACCS.RU.ZS               0.022384\n",
       "EG.ELC.ACCS.UR.ZS               0.009696\n",
       "NY.ADJ.SVNX.GN.ZS               0.000000\n",
       "NV.AGR.EMPL.KD                  0.005664\n",
       "IS.AIR.GOOD.MT.K1               0.000000\n",
       "IS.AIR.PSGR                     0.000000\n",
       "ER.FSH.AQUA.MT                  0.000000\n",
       "ER.FSH.CAPT.MT                  0.049113\n",
       "AG.YLD.CREL.KG                  0.012305\n",
       "EN.ATM.CO2E.KD.GD               0.000000\n",
       "EN.ATM.CO2E.PP.GD.KD            0.000000\n",
       "EN.ATM.CO2E.PP.GD               0.000000\n",
       "EN.ATM.CO2E.PC                  0.098127\n",
       "NY.GDP.COAL.RT.ZS               0.005280\n",
       "EG.EGY.PRIM.PP.KD               0.000000\n",
       "NE.EXP.GNFS.ZS                  0.010803\n",
       "BX.KLT.DINV.WD.GD.ZS            0.000000\n",
       "BX.KLT.DINV.CD.WD               0.006099\n",
       "AG.LND.FRST.ZS                  0.000000\n",
       "AG.LND.FRST.K2                  0.000345\n",
       "NY.GDP.FRST.RT.ZS               0.007137\n",
       "NY.GDP.MKTP.KD                  0.000000\n",
       "NY.GDP.MKTP.KN                  0.000000\n",
       "NY.GDP.MKTP.CN                  0.000000\n",
       "NY.GDP.MKTP.CD                  0.000000\n",
       "NY.GDP.MKTP.KD.ZG               0.004008\n",
       "NY.GDP.PCAP.KN                  0.000000\n",
       "NY.GDP.PCAP.CN                  0.000027\n",
       "NY.GDP.PCAP.CD                  0.000000\n",
       "NY.GDP.PCAP.KD.ZG               0.002372\n",
       "NY.GDP.MKTP.PP.KD               0.000000\n",
       "NY.GDP.MKTP.PP.CD               0.000000\n",
       "NY.GNP.PCAP.CN                  0.000000\n",
       "NY.GNP.MKTP.PC.CD               0.063117\n",
       "NY.GNP.MKTP.PP.CD               0.000000\n",
       "IT.NET.USER.ZS                  0.000000\n",
       "NV.IND.EMPL.KD                  0.061238\n",
       "NV.IND.MANF.ZS                  0.000000\n",
       "NV.IND.MANF.CD                  0.000000\n",
       "NV.MNF.TECH.ZS.UN               0.000000\n",
       "NY.GDP.MINR.RT.ZS               0.000000\n",
       "SH.DYN.MORT                     0.256685\n",
       "SH.DYN.MORT.FE                  0.008664\n",
       "SH.DYN.MORT.MA                  0.000000\n",
       "NY.GDP.NGAS.RT.ZS               0.000000\n",
       "NY.GDP.PETR.RT.ZS               0.000000\n",
       "BX.TRF.PWKR.DT.GD.ZS            0.000000\n",
       "PA.NUS.PPP                      0.000000\n",
       "PA.NUS.PRVT.PP                  0.000000\n",
       "SE.PRM.DURS                     0.000000\n",
       "EG.ELC.RNEW.ZS                  0.000000\n",
       "EG.FEC.RNEW.ZS                  0.000000\n",
       "SE.ENR.PRIM.FM.ZS               0.000000\n",
       "SE.SEC.DURS                     0.000000\n",
       "NV.SRV.EMPL.KD                  0.236520\n",
       "ER.FSH.PROD.MT                  0.004792\n",
       "NY.GDP.TOTL.RT.ZS               0.014264"
      ]
     },
     "execution_count": 166,
     "metadata": {},
     "output_type": "execute_result"
    }
   ],
   "source": [
    "feat_import"
   ]
  },
  {
   "cell_type": "code",
   "execution_count": 190,
   "metadata": {
    "execution": {
     "iopub.execute_input": "2021-07-18T08:09:11.129529Z",
     "iopub.status.busy": "2021-07-18T08:09:11.129133Z",
     "iopub.status.idle": "2021-07-18T08:09:18.623975Z",
     "shell.execute_reply": "2021-07-18T08:09:18.622488Z",
     "shell.execute_reply.started": "2021-07-18T08:09:11.129497Z"
    }
   },
   "outputs": [
    {
     "name": "stdout",
     "output_type": "stream",
     "text": [
      "Requirement already satisfied: pdpbox in /opt/conda/lib/python3.7/site-packages (0.2.1)\n",
      "Requirement already satisfied: joblib in /opt/conda/lib/python3.7/site-packages (from pdpbox) (1.0.1)\n",
      "Requirement already satisfied: sklearn in /opt/conda/lib/python3.7/site-packages (from pdpbox) (0.0)\n",
      "Requirement already satisfied: pandas in /opt/conda/lib/python3.7/site-packages (from pdpbox) (1.2.4)\n",
      "Requirement already satisfied: numpy in /opt/conda/lib/python3.7/site-packages (from pdpbox) (1.19.5)\n",
      "Requirement already satisfied: matplotlib==3.1.1 in /opt/conda/lib/python3.7/site-packages (from pdpbox) (3.1.1)\n",
      "Requirement already satisfied: psutil in /opt/conda/lib/python3.7/site-packages (from pdpbox) (5.8.0)\n",
      "Requirement already satisfied: scipy in /opt/conda/lib/python3.7/site-packages (from pdpbox) (1.6.3)\n",
      "Requirement already satisfied: kiwisolver>=1.0.1 in /opt/conda/lib/python3.7/site-packages (from matplotlib==3.1.1->pdpbox) (1.3.1)\n",
      "Requirement already satisfied: python-dateutil>=2.1 in /opt/conda/lib/python3.7/site-packages (from matplotlib==3.1.1->pdpbox) (2.8.1)\n",
      "Requirement already satisfied: pyparsing!=2.0.4,!=2.1.2,!=2.1.6,>=2.0.1 in /opt/conda/lib/python3.7/site-packages (from matplotlib==3.1.1->pdpbox) (2.4.7)\n",
      "Requirement already satisfied: cycler>=0.10 in /opt/conda/lib/python3.7/site-packages (from matplotlib==3.1.1->pdpbox) (0.10.0)\n",
      "Requirement already satisfied: six in /opt/conda/lib/python3.7/site-packages (from cycler>=0.10->matplotlib==3.1.1->pdpbox) (1.15.0)\n",
      "Requirement already satisfied: pytz>=2017.3 in /opt/conda/lib/python3.7/site-packages (from pandas->pdpbox) (2021.1)\n",
      "Requirement already satisfied: scikit-learn in /opt/conda/lib/python3.7/site-packages (from sklearn->pdpbox) (0.23.2)\n",
      "Requirement already satisfied: threadpoolctl>=2.0.0 in /opt/conda/lib/python3.7/site-packages (from scikit-learn->sklearn->pdpbox) (2.1.0)\n",
      "\u001b[33mWARNING: Running pip as root will break packages and permissions. You should install packages reliably by using venv: https://pip.pypa.io/warnings/venv\u001b[0m\n",
      "Note: you may need to restart the kernel to use updated packages.\n"
     ]
    }
   ],
   "source": [
    " pip install pdpbox"
   ]
  },
  {
   "cell_type": "code",
   "execution_count": 192,
   "metadata": {
    "execution": {
     "iopub.execute_input": "2021-07-18T08:11:44.848283Z",
     "iopub.status.busy": "2021-07-18T08:11:44.847832Z",
     "iopub.status.idle": "2021-07-18T08:11:44.881276Z",
     "shell.execute_reply": "2021-07-18T08:11:44.879452Z",
     "shell.execute_reply.started": "2021-07-18T08:11:44.848248Z"
    }
   },
   "outputs": [
    {
     "ename": "KeyError",
     "evalue": "'Patch'",
     "output_type": "error",
     "traceback": [
      "\u001b[0;31m---------------------------------------------------------------------------\u001b[0m",
      "\u001b[0;31mKeyError\u001b[0m                                  Traceback (most recent call last)",
      "\u001b[0;32m<ipython-input-192-77f615fcc1b4>\u001b[0m in \u001b[0;36m<module>\u001b[0;34m\u001b[0m\n\u001b[0;32m----> 1\u001b[0;31m \u001b[0;32mfrom\u001b[0m \u001b[0mpdpbox\u001b[0m \u001b[0;32mimport\u001b[0m \u001b[0mpdp\u001b[0m\u001b[0;34m,\u001b[0m \u001b[0mget_dataset\u001b[0m\u001b[0;34m,\u001b[0m \u001b[0minfo_plots\u001b[0m\u001b[0;34m\u001b[0m\u001b[0;34m\u001b[0m\u001b[0m\n\u001b[0m",
      "\u001b[0;32m/opt/conda/lib/python3.7/site-packages/pdpbox/pdp.py\u001b[0m in \u001b[0;36m<module>\u001b[0;34m\u001b[0m\n\u001b[1;32m      1\u001b[0m \u001b[0;34m\u001b[0m\u001b[0m\n\u001b[1;32m      2\u001b[0m \u001b[0;32mfrom\u001b[0m \u001b[0;34m.\u001b[0m\u001b[0mpdp_calc_utils\u001b[0m \u001b[0;32mimport\u001b[0m \u001b[0m_calc_ice_lines\u001b[0m\u001b[0;34m,\u001b[0m \u001b[0m_calc_ice_lines_inter\u001b[0m\u001b[0;34m,\u001b[0m \u001b[0m_prepare_pdp_count_data\u001b[0m\u001b[0;34m\u001b[0m\u001b[0;34m\u001b[0m\u001b[0m\n\u001b[0;32m----> 3\u001b[0;31m \u001b[0;32mfrom\u001b[0m \u001b[0;34m.\u001b[0m\u001b[0mpdp_plot_utils\u001b[0m \u001b[0;32mimport\u001b[0m \u001b[0;34m(\u001b[0m\u001b[0m_pdp_plot\u001b[0m\u001b[0;34m,\u001b[0m \u001b[0m_pdp_inter_three\u001b[0m\u001b[0;34m,\u001b[0m \u001b[0m_pdp_inter_one\u001b[0m\u001b[0;34m)\u001b[0m\u001b[0;34m\u001b[0m\u001b[0;34m\u001b[0m\u001b[0m\n\u001b[0m\u001b[1;32m      4\u001b[0m from .utils import (_check_model, _check_dataset, _check_percentile_range, _check_feature,\n\u001b[1;32m      5\u001b[0m                     \u001b[0m_check_grid_type\u001b[0m\u001b[0;34m,\u001b[0m \u001b[0m_check_memory_limit\u001b[0m\u001b[0;34m,\u001b[0m \u001b[0m_check_frac_to_plot\u001b[0m\u001b[0;34m,\u001b[0m \u001b[0m_make_list\u001b[0m\u001b[0;34m,\u001b[0m \u001b[0m_expand_default\u001b[0m\u001b[0;34m,\u001b[0m\u001b[0;34m\u001b[0m\u001b[0;34m\u001b[0m\u001b[0m\n",
      "\u001b[0;32m/opt/conda/lib/python3.7/site-packages/pdpbox/pdp_plot_utils.py\u001b[0m in \u001b[0;36m<module>\u001b[0;34m\u001b[0m\n\u001b[1;32m     11\u001b[0m \u001b[0;32mfrom\u001b[0m \u001b[0msklearn\u001b[0m\u001b[0;34m.\u001b[0m\u001b[0mcluster\u001b[0m \u001b[0;32mimport\u001b[0m \u001b[0mMiniBatchKMeans\u001b[0m\u001b[0;34m,\u001b[0m \u001b[0mKMeans\u001b[0m\u001b[0;34m\u001b[0m\u001b[0;34m\u001b[0m\u001b[0m\n\u001b[1;32m     12\u001b[0m \u001b[0;32mfrom\u001b[0m \u001b[0mmpl_toolkits\u001b[0m\u001b[0;34m.\u001b[0m\u001b[0maxes_grid1\u001b[0m\u001b[0;34m.\u001b[0m\u001b[0maxes_divider\u001b[0m \u001b[0;32mimport\u001b[0m \u001b[0mmake_axes_locatable\u001b[0m\u001b[0;34m\u001b[0m\u001b[0;34m\u001b[0m\u001b[0m\n\u001b[0;32m---> 13\u001b[0;31m \u001b[0;32mfrom\u001b[0m \u001b[0mmpl_toolkits\u001b[0m\u001b[0;34m.\u001b[0m\u001b[0maxes_grid1\u001b[0m\u001b[0;34m.\u001b[0m\u001b[0minset_locator\u001b[0m \u001b[0;32mimport\u001b[0m \u001b[0minset_axes\u001b[0m\u001b[0;34m\u001b[0m\u001b[0;34m\u001b[0m\u001b[0m\n\u001b[0m\u001b[1;32m     14\u001b[0m \u001b[0;34m\u001b[0m\u001b[0m\n\u001b[1;32m     15\u001b[0m \u001b[0;34m\u001b[0m\u001b[0m\n",
      "\u001b[0;32m/opt/conda/lib/python3.7/site-packages/mpl_toolkits/axes_grid1/inset_locator.py\u001b[0m in \u001b[0;36m<module>\u001b[0;34m\u001b[0m\n\u001b[1;32m    139\u001b[0m \u001b[0;34m\u001b[0m\u001b[0m\n\u001b[1;32m    140\u001b[0m \u001b[0;34m\u001b[0m\u001b[0m\n\u001b[0;32m--> 141\u001b[0;31m \u001b[0;32mclass\u001b[0m \u001b[0mBboxPatch\u001b[0m\u001b[0;34m(\u001b[0m\u001b[0mPatch\u001b[0m\u001b[0;34m)\u001b[0m\u001b[0;34m:\u001b[0m\u001b[0;34m\u001b[0m\u001b[0;34m\u001b[0m\u001b[0m\n\u001b[0m\u001b[1;32m    142\u001b[0m     \u001b[0;34m@\u001b[0m\u001b[0mdocstring\u001b[0m\u001b[0;34m.\u001b[0m\u001b[0mdedent_interpd\u001b[0m\u001b[0;34m\u001b[0m\u001b[0;34m\u001b[0m\u001b[0m\n\u001b[1;32m    143\u001b[0m     \u001b[0;32mdef\u001b[0m \u001b[0m__init__\u001b[0m\u001b[0;34m(\u001b[0m\u001b[0mself\u001b[0m\u001b[0;34m,\u001b[0m \u001b[0mbbox\u001b[0m\u001b[0;34m,\u001b[0m \u001b[0;34m**\u001b[0m\u001b[0mkwargs\u001b[0m\u001b[0;34m)\u001b[0m\u001b[0;34m:\u001b[0m\u001b[0;34m\u001b[0m\u001b[0;34m\u001b[0m\u001b[0m\n",
      "\u001b[0;32m/opt/conda/lib/python3.7/site-packages/mpl_toolkits/axes_grid1/inset_locator.py\u001b[0m in \u001b[0;36mBboxPatch\u001b[0;34m()\u001b[0m\n\u001b[1;32m    140\u001b[0m \u001b[0;34m\u001b[0m\u001b[0m\n\u001b[1;32m    141\u001b[0m \u001b[0;32mclass\u001b[0m \u001b[0mBboxPatch\u001b[0m\u001b[0;34m(\u001b[0m\u001b[0mPatch\u001b[0m\u001b[0;34m)\u001b[0m\u001b[0;34m:\u001b[0m\u001b[0;34m\u001b[0m\u001b[0;34m\u001b[0m\u001b[0m\n\u001b[0;32m--> 142\u001b[0;31m     \u001b[0;34m@\u001b[0m\u001b[0mdocstring\u001b[0m\u001b[0;34m.\u001b[0m\u001b[0mdedent_interpd\u001b[0m\u001b[0;34m\u001b[0m\u001b[0;34m\u001b[0m\u001b[0m\n\u001b[0m\u001b[1;32m    143\u001b[0m     \u001b[0;32mdef\u001b[0m \u001b[0m__init__\u001b[0m\u001b[0;34m(\u001b[0m\u001b[0mself\u001b[0m\u001b[0;34m,\u001b[0m \u001b[0mbbox\u001b[0m\u001b[0;34m,\u001b[0m \u001b[0;34m**\u001b[0m\u001b[0mkwargs\u001b[0m\u001b[0;34m)\u001b[0m\u001b[0;34m:\u001b[0m\u001b[0;34m\u001b[0m\u001b[0;34m\u001b[0m\u001b[0m\n\u001b[1;32m    144\u001b[0m         \"\"\"\n",
      "\u001b[0;32m/opt/conda/lib/python3.7/site-packages/matplotlib/docstring.py\u001b[0m in \u001b[0;36m__call__\u001b[0;34m(self, func)\u001b[0m\n\u001b[1;32m     38\u001b[0m     \u001b[0;32mdef\u001b[0m \u001b[0m__call__\u001b[0m\u001b[0;34m(\u001b[0m\u001b[0mself\u001b[0m\u001b[0;34m,\u001b[0m \u001b[0mfunc\u001b[0m\u001b[0;34m)\u001b[0m\u001b[0;34m:\u001b[0m\u001b[0;34m\u001b[0m\u001b[0;34m\u001b[0m\u001b[0m\n\u001b[1;32m     39\u001b[0m         \u001b[0;32mif\u001b[0m \u001b[0mfunc\u001b[0m\u001b[0;34m.\u001b[0m\u001b[0m__doc__\u001b[0m\u001b[0;34m:\u001b[0m\u001b[0;34m\u001b[0m\u001b[0;34m\u001b[0m\u001b[0m\n\u001b[0;32m---> 40\u001b[0;31m             \u001b[0mfunc\u001b[0m\u001b[0;34m.\u001b[0m\u001b[0m__doc__\u001b[0m \u001b[0;34m%=\u001b[0m \u001b[0mself\u001b[0m\u001b[0;34m.\u001b[0m\u001b[0mparams\u001b[0m\u001b[0;34m\u001b[0m\u001b[0;34m\u001b[0m\u001b[0m\n\u001b[0m\u001b[1;32m     41\u001b[0m         \u001b[0;32mreturn\u001b[0m \u001b[0mfunc\u001b[0m\u001b[0;34m\u001b[0m\u001b[0;34m\u001b[0m\u001b[0m\n\u001b[1;32m     42\u001b[0m \u001b[0;34m\u001b[0m\u001b[0m\n",
      "\u001b[0;31mKeyError\u001b[0m: 'Patch'"
     ]
    }
   ],
   "source": [
    "from pdpbox import pdp, get_dataset, info_plots"
   ]
  },
  {
   "cell_type": "code",
   "execution_count": 185,
   "metadata": {
    "execution": {
     "iopub.execute_input": "2021-07-18T08:03:11.883938Z",
     "iopub.status.busy": "2021-07-18T08:03:11.883575Z",
     "iopub.status.idle": "2021-07-18T08:03:11.909754Z",
     "shell.execute_reply": "2021-07-18T08:03:11.908191Z",
     "shell.execute_reply.started": "2021-07-18T08:03:11.883909Z"
    }
   },
   "outputs": [
    {
     "ename": "ValueError",
     "evalue": "The truth value of an array with more than one element is ambiguous. Use a.any() or a.all()",
     "output_type": "error",
     "traceback": [
      "\u001b[0;31m---------------------------------------------------------------------------\u001b[0m",
      "\u001b[0;31mValueError\u001b[0m                                Traceback (most recent call last)",
      "\u001b[0;32m<ipython-input-185-cd67c680c426>\u001b[0m in \u001b[0;36m<module>\u001b[0;34m\u001b[0m\n\u001b[0;32m----> 1\u001b[0;31m \u001b[0mplot_partial_dependence\u001b[0m\u001b[0;34m(\u001b[0m\u001b[0mtab1_clf\u001b[0m\u001b[0;34m,\u001b[0m\u001b[0mX_train\u001b[0m\u001b[0;34m.\u001b[0m\u001b[0mvalues\u001b[0m\u001b[0;34m,\u001b[0m\u001b[0;34m'SH.DYN.MORT'\u001b[0m\u001b[0;34m,\u001b[0m\u001b[0mtarget\u001b[0m\u001b[0;34m=\u001b[0m\u001b[0my_train\u001b[0m\u001b[0;34m.\u001b[0m\u001b[0mvalues\u001b[0m\u001b[0;34m)\u001b[0m\u001b[0;34m\u001b[0m\u001b[0;34m\u001b[0m\u001b[0m\n\u001b[0m",
      "\u001b[0;32m/opt/conda/lib/python3.7/site-packages/sklearn/utils/validation.py\u001b[0m in \u001b[0;36minner_f\u001b[0;34m(*args, **kwargs)\u001b[0m\n\u001b[1;32m     70\u001b[0m                           FutureWarning)\n\u001b[1;32m     71\u001b[0m         \u001b[0mkwargs\u001b[0m\u001b[0;34m.\u001b[0m\u001b[0mupdate\u001b[0m\u001b[0;34m(\u001b[0m\u001b[0;34m{\u001b[0m\u001b[0mk\u001b[0m\u001b[0;34m:\u001b[0m \u001b[0marg\u001b[0m \u001b[0;32mfor\u001b[0m \u001b[0mk\u001b[0m\u001b[0;34m,\u001b[0m \u001b[0marg\u001b[0m \u001b[0;32min\u001b[0m \u001b[0mzip\u001b[0m\u001b[0;34m(\u001b[0m\u001b[0msig\u001b[0m\u001b[0;34m.\u001b[0m\u001b[0mparameters\u001b[0m\u001b[0;34m,\u001b[0m \u001b[0margs\u001b[0m\u001b[0;34m)\u001b[0m\u001b[0;34m}\u001b[0m\u001b[0;34m)\u001b[0m\u001b[0;34m\u001b[0m\u001b[0;34m\u001b[0m\u001b[0m\n\u001b[0;32m---> 72\u001b[0;31m         \u001b[0;32mreturn\u001b[0m \u001b[0mf\u001b[0m\u001b[0;34m(\u001b[0m\u001b[0;34m**\u001b[0m\u001b[0mkwargs\u001b[0m\u001b[0;34m)\u001b[0m\u001b[0;34m\u001b[0m\u001b[0;34m\u001b[0m\u001b[0m\n\u001b[0m\u001b[1;32m     73\u001b[0m     \u001b[0;32mreturn\u001b[0m \u001b[0minner_f\u001b[0m\u001b[0;34m\u001b[0m\u001b[0;34m\u001b[0m\u001b[0m\n\u001b[1;32m     74\u001b[0m \u001b[0;34m\u001b[0m\u001b[0m\n",
      "\u001b[0;32m/opt/conda/lib/python3.7/site-packages/sklearn/inspection/_plot/partial_dependence.py\u001b[0m in \u001b[0;36mplot_partial_dependence\u001b[0;34m(estimator, X, features, feature_names, target, response_method, n_cols, grid_resolution, percentiles, method, n_jobs, verbose, fig, line_kw, contour_kw, ax)\u001b[0m\n\u001b[1;32m    210\u001b[0m             \u001b[0;32mraise\u001b[0m \u001b[0mValueError\u001b[0m\u001b[0;34m(\u001b[0m\u001b[0;34m'target must be specified for multi-class'\u001b[0m\u001b[0;34m)\u001b[0m\u001b[0;34m\u001b[0m\u001b[0;34m\u001b[0m\u001b[0m\n\u001b[1;32m    211\u001b[0m         \u001b[0mtarget_idx\u001b[0m \u001b[0;34m=\u001b[0m \u001b[0mnp\u001b[0m\u001b[0;34m.\u001b[0m\u001b[0msearchsorted\u001b[0m\u001b[0;34m(\u001b[0m\u001b[0mestimator\u001b[0m\u001b[0;34m.\u001b[0m\u001b[0mclasses_\u001b[0m\u001b[0;34m,\u001b[0m \u001b[0mtarget\u001b[0m\u001b[0;34m)\u001b[0m\u001b[0;34m\u001b[0m\u001b[0;34m\u001b[0m\u001b[0m\n\u001b[0;32m--> 212\u001b[0;31m         if (not (0 <= target_idx < len(estimator.classes_)) or\n\u001b[0m\u001b[1;32m    213\u001b[0m                 estimator.classes_[target_idx] != target):\n\u001b[1;32m    214\u001b[0m             raise ValueError('target not in est.classes_, got {}'.format(\n",
      "\u001b[0;31mValueError\u001b[0m: The truth value of an array with more than one element is ambiguous. Use a.any() or a.all()"
     ]
    }
   ],
   "source": [
    "plot_partial_dependence(tab1_clf,X_train.values,'SH.DYN.MORT',target=y_train.values)"
   ]
  },
  {
   "cell_type": "code",
   "execution_count": null,
   "metadata": {},
   "outputs": [],
   "source": []
  }
 ],
 "metadata": {
  "hide_input": false,
  "kernelspec": {
   "display_name": "Python 3",
   "language": "python",
   "name": "python3"
  },
  "language_info": {
   "codemirror_mode": {
    "name": "ipython",
    "version": 3
   },
   "file_extension": ".py",
   "mimetype": "text/x-python",
   "name": "python",
   "nbconvert_exporter": "python",
   "pygments_lexer": "ipython3",
   "version": "3.8.5"
  },
  "toc": {
   "base_numbering": 1,
   "nav_menu": {},
   "number_sections": true,
   "sideBar": true,
   "skip_h1_title": false,
   "title_cell": "Table of Contents",
   "title_sidebar": "Contents",
   "toc_cell": false,
   "toc_position": {},
   "toc_section_display": true,
   "toc_window_display": false
  },
  "varInspector": {
   "cols": {
    "lenName": 16,
    "lenType": 16,
    "lenVar": 40
   },
   "kernels_config": {
    "python": {
     "delete_cmd_postfix": "",
     "delete_cmd_prefix": "del ",
     "library": "var_list.py",
     "varRefreshCmd": "print(var_dic_list())"
    },
    "r": {
     "delete_cmd_postfix": ") ",
     "delete_cmd_prefix": "rm(",
     "library": "var_list.r",
     "varRefreshCmd": "cat(var_dic_list()) "
    }
   },
   "types_to_exclude": [
    "module",
    "function",
    "builtin_function_or_method",
    "instance",
    "_Feature"
   ],
   "window_display": false
  }
 },
 "nbformat": 4,
 "nbformat_minor": 4
}
